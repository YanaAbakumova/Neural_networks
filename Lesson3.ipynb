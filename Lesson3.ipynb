{
  "nbformat": 4,
  "nbformat_minor": 0,
  "metadata": {
    "colab": {
      "name": "Lesson3.ipynb",
      "provenance": [],
      "collapsed_sections": [],
      "authorship_tag": "ABX9TyOFzVnjcdLJI9T7zniTBIlg",
      "include_colab_link": true
    },
    "kernelspec": {
      "name": "python3",
      "display_name": "Python 3"
    },
    "language_info": {
      "name": "python"
    },
    "accelerator": "GPU"
  },
  "cells": [
    {
      "cell_type": "markdown",
      "metadata": {
        "id": "view-in-github",
        "colab_type": "text"
      },
      "source": [
        "<a href=\"https://colab.research.google.com/github/YanaAbakumova/Neural_networks/blob/lesson_3/Lesson3.ipynb\" target=\"_parent\"><img src=\"https://colab.research.google.com/assets/colab-badge.svg\" alt=\"Open In Colab\"/></a>"
      ]
    },
    {
      "cell_type": "code",
      "metadata": {
        "colab": {
          "base_uri": "https://localhost:8080/"
        },
        "id": "vy-vnN_34iuJ",
        "outputId": "ca41bb91-4cc3-4bce-b989-644aca38360d"
      },
      "source": [
        "from google.colab import drive\n",
        "drive.mount('/content/drive/')"
      ],
      "execution_count": 2,
      "outputs": [
        {
          "output_type": "stream",
          "name": "stdout",
          "text": [
            "Mounted at /content/drive/\n"
          ]
        }
      ]
    },
    {
      "cell_type": "markdown",
      "metadata": {
        "id": "6z5KVRTq5A0A"
      },
      "source": [
        "## Практическое задание\n",
        "\n",
        "  1. Постройте нейронную сеть(берем простую линейную сеть, которую разбирали на уроке: меняем число слоев, число нейронов , типы активации, тип оптимизатора)  на датасет from sklearn.datasets import load_boston. \n",
        "  2. Измените функцию потерь и метрику для этой задачи. Постройте 10-15 вариантов и сведите результаты их работы в таблицу  Опишите, какого результата вы добились от нейросети? Что помогло вам улучшить ее точность?\n",
        "\n",
        "  3. Поработайте с документацией TensorFlow 2. Найти 2-3 полезные команды TensorFlow, не разобранные на уроке (полезные для Вас).\n",
        "\n",
        "  1-2. (*)  Попробуйте обучить нейронную сеть на TensorFlow 2 на датасете imdb_reviews .Опишите, какого результата вы добились от нейросети? Что помогло вам улучшить ее точность?"
      ]
    },
    {
      "cell_type": "code",
      "metadata": {
        "id": "IaQ_UrF_4rZb"
      },
      "source": [
        "%tensorflow_version 2.x"
      ],
      "execution_count": 3,
      "outputs": []
    },
    {
      "cell_type": "code",
      "metadata": {
        "colab": {
          "base_uri": "https://localhost:8080/"
        },
        "id": "8VKAAz1J5N3b",
        "outputId": "d80dcf45-4d3a-47c8-de8c-ecd41a187d1d"
      },
      "source": [
        "import tensorflow as tf\n",
        "print(tf.__version__)\n",
        "msg = tf.constant('TensorFlow 2.0 Hello World')\n",
        "tf.print(msg)"
      ],
      "execution_count": 4,
      "outputs": [
        {
          "output_type": "stream",
          "name": "stdout",
          "text": [
            "2.6.0\n",
            "TensorFlow 2.0 Hello World\n"
          ]
        }
      ]
    },
    {
      "cell_type": "code",
      "metadata": {
        "id": "nFMdpnlf5QO7"
      },
      "source": [
        "from tensorflow.keras.models import Sequential, Model\n",
        "from tensorflow.keras.layers import Dense, Input, Flatten\n",
        "from tensorflow.keras.utils import to_categorical\n",
        "from tensorflow.keras.optimizers import Adam, SGD, RMSprop, Adagrad\n",
        "import tensorflow.nn as nn\n",
        "import matplotlib.pyplot as plt\n",
        "from sklearn.datasets import load_boston\n",
        "import pandas as pd\n",
        "import numpy as np"
      ],
      "execution_count": 5,
      "outputs": []
    },
    {
      "cell_type": "code",
      "metadata": {
        "colab": {
          "base_uri": "https://localhost:8080/"
        },
        "id": "ot3JYJQVRIHe",
        "outputId": "8bd6b50d-8674-4f7c-a220-7a97462a67fa"
      },
      "source": [
        "x = tf.random.uniform([3, 3])\n",
        "\n",
        "print(\"есть ли доступные GPU: \"),\n",
        "print(tf.config.experimental.list_physical_devices(\"GPU\"))\n",
        "\n",
        "print(\"тензор на GPU #0:  \"),\n",
        "print(x.device.endswith('GPU:0'))\n"
      ],
      "execution_count": 6,
      "outputs": [
        {
          "output_type": "stream",
          "name": "stdout",
          "text": [
            "есть ли доступные GPU: \n",
            "[PhysicalDevice(name='/physical_device:GPU:0', device_type='GPU')]\n",
            "тензор на GPU #0:  \n",
            "True\n"
          ]
        }
      ]
    },
    {
      "cell_type": "code",
      "metadata": {
        "id": "QiLPv0iD57On"
      },
      "source": [
        "boston = load_boston()\n",
        "X = pd.DataFrame(boston['data'], columns=boston['feature_names'])\n",
        "y = boston['target']\n",
        "                 "
      ],
      "execution_count": null,
      "outputs": []
    },
    {
      "cell_type": "code",
      "metadata": {
        "colab": {
          "base_uri": "https://localhost:8080/"
        },
        "id": "6n_M6ctTBmq5",
        "outputId": "d7c2c98d-2356-4a03-eacb-ab76e3304bac"
      },
      "source": [
        "X.shape"
      ],
      "execution_count": null,
      "outputs": [
        {
          "output_type": "execute_result",
          "data": {
            "text/plain": [
              "(506, 13)"
            ]
          },
          "metadata": {},
          "execution_count": 7
        }
      ]
    },
    {
      "cell_type": "code",
      "metadata": {
        "id": "9m5uRk2C853U"
      },
      "source": [
        "def create_model(X, y, n_layers, n_neurons, n_epochs, activ_f1, activ_f2, loss_func, metrics, bs, val_split, optim):\n",
        "\n",
        "  level =n_layers\n",
        "  inputs = Input(shape=(X.shape[1]), name='digits') \n",
        "  x=Flatten()(inputs)\n",
        "  for i in range(level-1):\n",
        "      x = Dense(n_neurons, name='dense_'+str(i), activation = activ_f1)(x)\n",
        "  outputs = Dense(1,name='predictions', activation=activ_f2)(x) \n",
        "\n",
        "  model = Model(inputs=inputs, outputs=outputs) \n",
        "\n",
        "  if optim=='Adam':\n",
        "    model.compile(optimizer= Adam(learning_rate=0.0001+0.01*i) ,\n",
        "                        loss=loss_func,\n",
        "                        metrics=[metrics])\n",
        "  if optim=='RMSprop':\n",
        "    model.compile(optimizer= RMSprop(learning_rate=0.0001+0.01*i) ,loss=loss_func,metrics=[metrics])\n",
        "\n",
        "  hh = model.fit(X, y,epochs=n_epochs, batch_size=bs, validation_split=0.2, verbose = 0)\n",
        "\n",
        "  return hh.history"
      ],
      "execution_count": 17,
      "outputs": []
    },
    {
      "cell_type": "code",
      "metadata": {
        "id": "7by5xMAK9-aB"
      },
      "source": [
        "result = pd.DataFrame(columns = ['n_layers', 'n_neurons', 'n_epochs', 'active_func1', 'active_func2','loss_func', 'optim', 'metrics', 'train_result', 'test_result'])"
      ],
      "execution_count": null,
      "outputs": []
    },
    {
      "cell_type": "code",
      "metadata": {
        "id": "_V-uytcIQtwz"
      },
      "source": [
        "n_layers = [2, 3, 4]\n",
        "n_neurons = [32, 64, 128]\n",
        "n_epochs = [10, 15]\n",
        "activ_function1 = ['relu', 'sigmoid', 'tanh', 'softmax']\n",
        "activ_function2 = ['relu', 'sigmoid', 'tanh', 'softmax']\n",
        "loss_function = ['mse', 'mae']\n",
        "optim = ['Adam', 'RMSprop']\n",
        "metrics = ['mse', 'mae']\n"
      ],
      "execution_count": null,
      "outputs": []
    },
    {
      "cell_type": "code",
      "metadata": {
        "id": "YDvqayeXVrdE"
      },
      "source": [
        "for layer in n_layers:\n",
        "  for neuron in n_neurons:\n",
        "    for epoch in n_epochs:\n",
        "      for activ1 in activ_function1:\n",
        "        for loss in loss_function:\n",
        "          for optimizer in optim:\n",
        "            for metric in metrics:\n",
        "              for activ2 in activ_function2:\n",
        "                history = create_model(X, y, n_layers = layer, n_neurons = neuron, n_epochs=epoch, activ_f1 = activ1, activ_f2= activ2,loss_func=loss, metrics = metric, bs = 64, val_split=0.2, optim = optimizer)\n",
        "                result.loc[len(result)] = [layer, neuron, epoch, activ1, activ2, loss, optimizer, metric, history[str(metric)][-1], history['val_'+str(metric)][-1]]\n",
        "\n"
      ],
      "execution_count": null,
      "outputs": []
    },
    {
      "cell_type": "code",
      "metadata": {
        "colab": {
          "base_uri": "https://localhost:8080/",
          "height": 142
        },
        "id": "0tp11O2Tfrya",
        "outputId": "28bac9c2-424d-47ef-91e5-5822394a8e84"
      },
      "source": [
        "# Лучшие результаты MAE\n",
        "result.sort_values('test_result', ascending=True).head(3)"
      ],
      "execution_count": null,
      "outputs": [
        {
          "output_type": "execute_result",
          "data": {
            "text/html": [
              "<div>\n",
              "<style scoped>\n",
              "    .dataframe tbody tr th:only-of-type {\n",
              "        vertical-align: middle;\n",
              "    }\n",
              "\n",
              "    .dataframe tbody tr th {\n",
              "        vertical-align: top;\n",
              "    }\n",
              "\n",
              "    .dataframe thead th {\n",
              "        text-align: right;\n",
              "    }\n",
              "</style>\n",
              "<table border=\"1\" class=\"dataframe\">\n",
              "  <thead>\n",
              "    <tr style=\"text-align: right;\">\n",
              "      <th></th>\n",
              "      <th>n_layers</th>\n",
              "      <th>n_neurons</th>\n",
              "      <th>n_epochs</th>\n",
              "      <th>active_func1</th>\n",
              "      <th>active_func2</th>\n",
              "      <th>loss_func</th>\n",
              "      <th>optim</th>\n",
              "      <th>metrics</th>\n",
              "      <th>train_result</th>\n",
              "      <th>test_result</th>\n",
              "    </tr>\n",
              "  </thead>\n",
              "  <tbody>\n",
              "    <tr>\n",
              "      <th>1372</th>\n",
              "      <td>3</td>\n",
              "      <td>128</td>\n",
              "      <td>10</td>\n",
              "      <td>tanh</td>\n",
              "      <td>relu</td>\n",
              "      <td>mae</td>\n",
              "      <td>RMSprop</td>\n",
              "      <td>mae</td>\n",
              "      <td>6.135585</td>\n",
              "      <td>3.633060</td>\n",
              "    </tr>\n",
              "    <tr>\n",
              "      <th>1084</th>\n",
              "      <td>3</td>\n",
              "      <td>64</td>\n",
              "      <td>10</td>\n",
              "      <td>sigmoid</td>\n",
              "      <td>relu</td>\n",
              "      <td>mae</td>\n",
              "      <td>RMSprop</td>\n",
              "      <td>mae</td>\n",
              "      <td>6.175420</td>\n",
              "      <td>3.762844</td>\n",
              "    </tr>\n",
              "    <tr>\n",
              "      <th>860</th>\n",
              "      <td>3</td>\n",
              "      <td>32</td>\n",
              "      <td>10</td>\n",
              "      <td>tanh</td>\n",
              "      <td>relu</td>\n",
              "      <td>mae</td>\n",
              "      <td>RMSprop</td>\n",
              "      <td>mae</td>\n",
              "      <td>5.907677</td>\n",
              "      <td>3.847974</td>\n",
              "    </tr>\n",
              "  </tbody>\n",
              "</table>\n",
              "</div>"
            ],
            "text/plain": [
              "     n_layers n_neurons n_epochs  ... metrics train_result test_result\n",
              "1372        3       128       10  ...     mae     6.135585    3.633060\n",
              "1084        3        64       10  ...     mae     6.175420    3.762844\n",
              "860         3        32       10  ...     mae     5.907677    3.847974\n",
              "\n",
              "[3 rows x 10 columns]"
            ]
          },
          "metadata": {},
          "execution_count": 11
        }
      ]
    },
    {
      "cell_type": "code",
      "metadata": {
        "id": "LGKiLamskAER",
        "colab": {
          "base_uri": "https://localhost:8080/",
          "height": 142
        },
        "outputId": "a4f609d6-6ac9-48af-f29b-f70454f50371"
      },
      "source": [
        "# Лучшие результаты MSE\n",
        "result.loc[result.metrics=='mse'].sort_values('test_result', ascending=True).head(3)"
      ],
      "execution_count": null,
      "outputs": [
        {
          "output_type": "execute_result",
          "data": {
            "text/html": [
              "<div>\n",
              "<style scoped>\n",
              "    .dataframe tbody tr th:only-of-type {\n",
              "        vertical-align: middle;\n",
              "    }\n",
              "\n",
              "    .dataframe tbody tr th {\n",
              "        vertical-align: top;\n",
              "    }\n",
              "\n",
              "    .dataframe thead th {\n",
              "        text-align: right;\n",
              "    }\n",
              "</style>\n",
              "<table border=\"1\" class=\"dataframe\">\n",
              "  <thead>\n",
              "    <tr style=\"text-align: right;\">\n",
              "      <th></th>\n",
              "      <th>n_layers</th>\n",
              "      <th>n_neurons</th>\n",
              "      <th>n_epochs</th>\n",
              "      <th>active_func1</th>\n",
              "      <th>active_func2</th>\n",
              "      <th>loss_func</th>\n",
              "      <th>optim</th>\n",
              "      <th>metrics</th>\n",
              "      <th>train_result</th>\n",
              "      <th>test_result</th>\n",
              "    </tr>\n",
              "  </thead>\n",
              "  <tbody>\n",
              "    <tr>\n",
              "      <th>1624</th>\n",
              "      <td>4</td>\n",
              "      <td>32</td>\n",
              "      <td>10</td>\n",
              "      <td>tanh</td>\n",
              "      <td>relu</td>\n",
              "      <td>mae</td>\n",
              "      <td>RMSprop</td>\n",
              "      <td>mse</td>\n",
              "      <td>86.313072</td>\n",
              "      <td>20.090399</td>\n",
              "    </tr>\n",
              "    <tr>\n",
              "      <th>1448</th>\n",
              "      <td>3</td>\n",
              "      <td>128</td>\n",
              "      <td>15</td>\n",
              "      <td>sigmoid</td>\n",
              "      <td>relu</td>\n",
              "      <td>mse</td>\n",
              "      <td>RMSprop</td>\n",
              "      <td>mse</td>\n",
              "      <td>72.824570</td>\n",
              "      <td>21.914379</td>\n",
              "    </tr>\n",
              "    <tr>\n",
              "      <th>2104</th>\n",
              "      <td>4</td>\n",
              "      <td>128</td>\n",
              "      <td>10</td>\n",
              "      <td>sigmoid</td>\n",
              "      <td>relu</td>\n",
              "      <td>mae</td>\n",
              "      <td>RMSprop</td>\n",
              "      <td>mse</td>\n",
              "      <td>90.246811</td>\n",
              "      <td>22.261532</td>\n",
              "    </tr>\n",
              "  </tbody>\n",
              "</table>\n",
              "</div>"
            ],
            "text/plain": [
              "     n_layers n_neurons n_epochs  ... metrics train_result test_result\n",
              "1624        4        32       10  ...     mse    86.313072   20.090399\n",
              "1448        3       128       15  ...     mse    72.824570   21.914379\n",
              "2104        4       128       10  ...     mse    90.246811   22.261532\n",
              "\n",
              "[3 rows x 10 columns]"
            ]
          },
          "metadata": {},
          "execution_count": 13
        }
      ]
    },
    {
      "cell_type": "code",
      "metadata": {
        "colab": {
          "base_uri": "https://localhost:8080/",
          "height": 142
        },
        "id": "HX8Ej5bNVLr4",
        "outputId": "20807e3d-3f3c-411b-c5c9-d453ef747a44"
      },
      "source": [
        "# Худшие результаты MSE\n",
        "result.loc[result.metrics=='mse'].sort_values('test_result', ascending=False).head(3)"
      ],
      "execution_count": null,
      "outputs": [
        {
          "output_type": "execute_result",
          "data": {
            "text/html": [
              "<div>\n",
              "<style scoped>\n",
              "    .dataframe tbody tr th:only-of-type {\n",
              "        vertical-align: middle;\n",
              "    }\n",
              "\n",
              "    .dataframe tbody tr th {\n",
              "        vertical-align: top;\n",
              "    }\n",
              "\n",
              "    .dataframe thead th {\n",
              "        text-align: right;\n",
              "    }\n",
              "</style>\n",
              "<table border=\"1\" class=\"dataframe\">\n",
              "  <thead>\n",
              "    <tr style=\"text-align: right;\">\n",
              "      <th></th>\n",
              "      <th>n_layers</th>\n",
              "      <th>n_neurons</th>\n",
              "      <th>n_epochs</th>\n",
              "      <th>active_func1</th>\n",
              "      <th>active_func2</th>\n",
              "      <th>loss_func</th>\n",
              "      <th>optim</th>\n",
              "      <th>metrics</th>\n",
              "      <th>train_result</th>\n",
              "      <th>test_result</th>\n",
              "    </tr>\n",
              "  </thead>\n",
              "  <tbody>\n",
              "    <tr>\n",
              "      <th>400</th>\n",
              "      <td>2</td>\n",
              "      <td>64</td>\n",
              "      <td>15</td>\n",
              "      <td>relu</td>\n",
              "      <td>relu</td>\n",
              "      <td>mae</td>\n",
              "      <td>Adam</td>\n",
              "      <td>mse</td>\n",
              "      <td>17617.568359</td>\n",
              "      <td>39137.128906</td>\n",
              "    </tr>\n",
              "    <tr>\n",
              "      <th>280</th>\n",
              "      <td>2</td>\n",
              "      <td>64</td>\n",
              "      <td>10</td>\n",
              "      <td>relu</td>\n",
              "      <td>relu</td>\n",
              "      <td>mae</td>\n",
              "      <td>RMSprop</td>\n",
              "      <td>mse</td>\n",
              "      <td>2798.900635</td>\n",
              "      <td>7802.791504</td>\n",
              "    </tr>\n",
              "    <tr>\n",
              "      <th>152</th>\n",
              "      <td>2</td>\n",
              "      <td>32</td>\n",
              "      <td>15</td>\n",
              "      <td>relu</td>\n",
              "      <td>relu</td>\n",
              "      <td>mae</td>\n",
              "      <td>RMSprop</td>\n",
              "      <td>mse</td>\n",
              "      <td>524.919434</td>\n",
              "      <td>4096.118164</td>\n",
              "    </tr>\n",
              "  </tbody>\n",
              "</table>\n",
              "</div>"
            ],
            "text/plain": [
              "    n_layers n_neurons n_epochs  ... metrics  train_result   test_result\n",
              "400        2        64       15  ...     mse  17617.568359  39137.128906\n",
              "280        2        64       10  ...     mse   2798.900635   7802.791504\n",
              "152        2        32       15  ...     mse    524.919434   4096.118164\n",
              "\n",
              "[3 rows x 10 columns]"
            ]
          },
          "metadata": {},
          "execution_count": 14
        }
      ]
    },
    {
      "cell_type": "code",
      "metadata": {
        "colab": {
          "base_uri": "https://localhost:8080/",
          "height": 142
        },
        "id": "U8XgSPUXVL2Z",
        "outputId": "c0aa26aa-a170-4f2f-8940-81888fc94c2c"
      },
      "source": [
        "# Худшие результаты MAE\n",
        "result.loc[result.metrics=='mae'].sort_values('test_result', ascending=False).head(3)"
      ],
      "execution_count": null,
      "outputs": [
        {
          "output_type": "execute_result",
          "data": {
            "text/html": [
              "<div>\n",
              "<style scoped>\n",
              "    .dataframe tbody tr th:only-of-type {\n",
              "        vertical-align: middle;\n",
              "    }\n",
              "\n",
              "    .dataframe tbody tr th {\n",
              "        vertical-align: top;\n",
              "    }\n",
              "\n",
              "    .dataframe thead th {\n",
              "        text-align: right;\n",
              "    }\n",
              "</style>\n",
              "<table border=\"1\" class=\"dataframe\">\n",
              "  <thead>\n",
              "    <tr style=\"text-align: right;\">\n",
              "      <th></th>\n",
              "      <th>n_layers</th>\n",
              "      <th>n_neurons</th>\n",
              "      <th>n_epochs</th>\n",
              "      <th>active_func1</th>\n",
              "      <th>active_func2</th>\n",
              "      <th>loss_func</th>\n",
              "      <th>optim</th>\n",
              "      <th>metrics</th>\n",
              "      <th>train_result</th>\n",
              "      <th>test_result</th>\n",
              "    </tr>\n",
              "  </thead>\n",
              "  <tbody>\n",
              "    <tr>\n",
              "      <th>156</th>\n",
              "      <td>2</td>\n",
              "      <td>32</td>\n",
              "      <td>15</td>\n",
              "      <td>relu</td>\n",
              "      <td>relu</td>\n",
              "      <td>mae</td>\n",
              "      <td>RMSprop</td>\n",
              "      <td>mae</td>\n",
              "      <td>86.741982</td>\n",
              "      <td>91.174942</td>\n",
              "    </tr>\n",
              "    <tr>\n",
              "      <th>4</th>\n",
              "      <td>2</td>\n",
              "      <td>32</td>\n",
              "      <td>10</td>\n",
              "      <td>relu</td>\n",
              "      <td>relu</td>\n",
              "      <td>mse</td>\n",
              "      <td>Adam</td>\n",
              "      <td>mae</td>\n",
              "      <td>22.959560</td>\n",
              "      <td>28.997257</td>\n",
              "    </tr>\n",
              "    <tr>\n",
              "      <th>28</th>\n",
              "      <td>2</td>\n",
              "      <td>32</td>\n",
              "      <td>10</td>\n",
              "      <td>relu</td>\n",
              "      <td>relu</td>\n",
              "      <td>mae</td>\n",
              "      <td>RMSprop</td>\n",
              "      <td>mae</td>\n",
              "      <td>12.867955</td>\n",
              "      <td>28.423422</td>\n",
              "    </tr>\n",
              "  </tbody>\n",
              "</table>\n",
              "</div>"
            ],
            "text/plain": [
              "    n_layers n_neurons n_epochs  ... metrics train_result test_result\n",
              "156        2        32       15  ...     mae    86.741982   91.174942\n",
              "4          2        32       10  ...     mae    22.959560   28.997257\n",
              "28         2        32       10  ...     mae    12.867955   28.423422\n",
              "\n",
              "[3 rows x 10 columns]"
            ]
          },
          "metadata": {},
          "execution_count": 15
        }
      ]
    },
    {
      "cell_type": "markdown",
      "metadata": {
        "id": "gYc087J2PP3W"
      },
      "source": [
        "Улучшить точность нейросети помог подбор кол-ва слоев, нейронов, эпох, комбинации активационных функций, оптимизатора, функции потерь. Использовала 2 метрики: mae и mse. Лучшие результаты достигнуты на 10 эпохах, активационных функциях tanh+relu, с оптимизатором RMSProp. Хороший результат показали модели с 3 слоями и максимальным кол-вом нейронов или 4 слоями и минимальным кол-вом нейронов. Также неплохая комбинация активационных функций - sigmoid + relu. Из функций потерь mae показала резйльтат лучше, чем mse.\n",
        "\n",
        "Плохие результаты связаны, в основном, с недообученностью модели, всего 2 слоя, мало нейронов. Наихудшая комбинация активационных функций - relu+relu. "
      ]
    },
    {
      "cell_type": "code",
      "metadata": {
        "id": "JsT5b8WkW9La"
      },
      "source": [
        "from tensorflow.keras.datasets import imdb\n",
        "#возьмем 1000 наиболее распространенных слов\n",
        "(train_data, train_labels), (test_data, test_labels) = imdb.load_data(num_words=1000)"
      ],
      "execution_count": 26,
      "outputs": []
    },
    {
      "cell_type": "code",
      "metadata": {
        "colab": {
          "base_uri": "https://localhost:8080/"
        },
        "id": "IKJ9tLqVXA_F",
        "outputId": "0e68750a-588b-402b-99a1-3247ed546a19"
      },
      "source": [
        "train_data.shape"
      ],
      "execution_count": 27,
      "outputs": [
        {
          "output_type": "execute_result",
          "data": {
            "text/plain": [
              "(25000,)"
            ]
          },
          "metadata": {},
          "execution_count": 27
        }
      ]
    },
    {
      "cell_type": "code",
      "metadata": {
        "id": "Lw9WghQ9Xtyv"
      },
      "source": [
        "def create_matrix(df):\n",
        "  length = 1000\n",
        "  matrix = np.zeros((train_data.shape[0], length))\n",
        "  for row in range(train_data.shape[0]):\n",
        "    for num in train_data[row]:\n",
        "      matrix[row, num] +=1\n",
        "  matrix /=length\n",
        "  return matrix"
      ],
      "execution_count": 39,
      "outputs": []
    },
    {
      "cell_type": "code",
      "metadata": {
        "id": "4_3RqnN4Y4RH"
      },
      "source": [
        "X_train = create_matrix(train_data)"
      ],
      "execution_count": 40,
      "outputs": []
    },
    {
      "cell_type": "code",
      "metadata": {
        "colab": {
          "base_uri": "https://localhost:8080/"
        },
        "id": "GBa0FfmMZbDd",
        "outputId": "91e860a7-06ab-434f-f367-a6ea80d729d4"
      },
      "source": [
        "X_train.shape"
      ],
      "execution_count": 41,
      "outputs": [
        {
          "output_type": "execute_result",
          "data": {
            "text/plain": [
              "(25000, 1000)"
            ]
          },
          "metadata": {},
          "execution_count": 41
        }
      ]
    },
    {
      "cell_type": "code",
      "metadata": {
        "id": "f3Q_54B1XObJ"
      },
      "source": [
        "X_train = X_train.astype('float32')\n",
        "y_train = np.asarray(train_labels).astype('float32')"
      ],
      "execution_count": 43,
      "outputs": []
    },
    {
      "cell_type": "code",
      "metadata": {
        "colab": {
          "base_uri": "https://localhost:8080/"
        },
        "id": "753NdEXJcM3N",
        "outputId": "926054ea-1e6e-4082-bd38-25e54301958a"
      },
      "source": [
        "y_train.shape"
      ],
      "execution_count": 44,
      "outputs": [
        {
          "output_type": "execute_result",
          "data": {
            "text/plain": [
              "(25000,)"
            ]
          },
          "metadata": {},
          "execution_count": 44
        }
      ]
    },
    {
      "cell_type": "code",
      "metadata": {
        "colab": {
          "base_uri": "https://localhost:8080/"
        },
        "id": "04Oif8_mFHBA",
        "outputId": "10e4869b-8722-4145-bb97-5048746b789a"
      },
      "source": [
        "X_train"
      ],
      "execution_count": 46,
      "outputs": [
        {
          "output_type": "execute_result",
          "data": {
            "text/plain": [
              "array([[0.   , 0.001, 0.029, ..., 0.   , 0.   , 0.   ],\n",
              "       [0.   , 0.001, 0.041, ..., 0.   , 0.   , 0.   ],\n",
              "       [0.   , 0.001, 0.02 , ..., 0.   , 0.   , 0.   ],\n",
              "       ...,\n",
              "       [0.   , 0.001, 0.055, ..., 0.   , 0.   , 0.   ],\n",
              "       [0.   , 0.001, 0.022, ..., 0.   , 0.   , 0.   ],\n",
              "       [0.   , 0.001, 0.038, ..., 0.   , 0.   , 0.   ]], dtype=float32)"
            ]
          },
          "metadata": {},
          "execution_count": 46
        }
      ]
    },
    {
      "cell_type": "code",
      "metadata": {
        "id": "LPmJZ2LecSt9"
      },
      "source": [
        "n_layers = [3, 4]\n",
        "n_neurons = [64, 128]\n",
        "n_epochs = [10]\n",
        "activ_function1 = ['relu','sigmoid', 'tanh']\n",
        "activ_function2 = ['sigmoid', 'softmax']\n",
        "loss_function = ['binary_crossentropy', 'Poisson']\n",
        "optim = ['Adam', 'RMSprop']\n",
        "metrics = ['accuracy', 'AUC']"
      ],
      "execution_count": 47,
      "outputs": []
    },
    {
      "cell_type": "code",
      "metadata": {
        "id": "TWnXGM0Bi9fs"
      },
      "source": [
        "result2 = pd.DataFrame(columns = ['n_layers', 'n_neurons', 'n_epochs', 'active_func1', 'active_func2','loss_func', 'optim', 'metrics', 'train_result', 'test_result'])"
      ],
      "execution_count": 48,
      "outputs": []
    },
    {
      "cell_type": "code",
      "metadata": {
        "id": "b707D6E-d18_"
      },
      "source": [
        "for layer in n_layers:\n",
        "  for neuron in n_neurons:\n",
        "    for epoch in n_epochs:\n",
        "      for activ1 in activ_function1:\n",
        "        for loss in loss_function:\n",
        "          for optimizer in optim:\n",
        "            for metric in metrics:\n",
        "              for activ2 in activ_function2:\n",
        "                history = create_model(X_train, y_train, n_layers = layer, n_neurons = neuron, n_epochs=epoch, activ_f1 = activ1, activ_f2= activ2,loss_func=loss, metrics = metric, bs = 64, val_split=0.2, optim = optimizer)\n",
        "                result2.loc[len(result2)] = [layer, neuron, epoch, activ1, activ2, loss, optimizer, metric, history[str(metric).lower()][-1], history['val_'+str(metric).lower()][-1]]"
      ],
      "execution_count": 49,
      "outputs": []
    },
    {
      "cell_type": "code",
      "metadata": {
        "id": "bgE5ZHveseB0",
        "colab": {
          "base_uri": "https://localhost:8080/",
          "height": 142
        },
        "outputId": "86990eb8-bfca-439d-c71a-e98c74869ed3"
      },
      "source": [
        "# Лучшие результаты Accuracy\n",
        "result2.loc[result2.metrics=='accuracy'].sort_values('test_result', ascending=False).head(3)"
      ],
      "execution_count": 50,
      "outputs": [
        {
          "output_type": "execute_result",
          "data": {
            "text/html": [
              "<div>\n",
              "<style scoped>\n",
              "    .dataframe tbody tr th:only-of-type {\n",
              "        vertical-align: middle;\n",
              "    }\n",
              "\n",
              "    .dataframe tbody tr th {\n",
              "        vertical-align: top;\n",
              "    }\n",
              "\n",
              "    .dataframe thead th {\n",
              "        text-align: right;\n",
              "    }\n",
              "</style>\n",
              "<table border=\"1\" class=\"dataframe\">\n",
              "  <thead>\n",
              "    <tr style=\"text-align: right;\">\n",
              "      <th></th>\n",
              "      <th>n_layers</th>\n",
              "      <th>n_neurons</th>\n",
              "      <th>n_epochs</th>\n",
              "      <th>active_func1</th>\n",
              "      <th>active_func2</th>\n",
              "      <th>loss_func</th>\n",
              "      <th>optim</th>\n",
              "      <th>metrics</th>\n",
              "      <th>train_result</th>\n",
              "      <th>test_result</th>\n",
              "    </tr>\n",
              "  </thead>\n",
              "  <tbody>\n",
              "    <tr>\n",
              "      <th>52</th>\n",
              "      <td>3</td>\n",
              "      <td>128</td>\n",
              "      <td>10</td>\n",
              "      <td>relu</td>\n",
              "      <td>sigmoid</td>\n",
              "      <td>binary_crossentropy</td>\n",
              "      <td>RMSprop</td>\n",
              "      <td>accuracy</td>\n",
              "      <td>0.86685</td>\n",
              "      <td>0.8680</td>\n",
              "    </tr>\n",
              "    <tr>\n",
              "      <th>16</th>\n",
              "      <td>3</td>\n",
              "      <td>64</td>\n",
              "      <td>10</td>\n",
              "      <td>sigmoid</td>\n",
              "      <td>sigmoid</td>\n",
              "      <td>binary_crossentropy</td>\n",
              "      <td>Adam</td>\n",
              "      <td>accuracy</td>\n",
              "      <td>0.86645</td>\n",
              "      <td>0.8656</td>\n",
              "    </tr>\n",
              "    <tr>\n",
              "      <th>132</th>\n",
              "      <td>4</td>\n",
              "      <td>64</td>\n",
              "      <td>10</td>\n",
              "      <td>tanh</td>\n",
              "      <td>sigmoid</td>\n",
              "      <td>binary_crossentropy</td>\n",
              "      <td>RMSprop</td>\n",
              "      <td>accuracy</td>\n",
              "      <td>0.85360</td>\n",
              "      <td>0.8654</td>\n",
              "    </tr>\n",
              "  </tbody>\n",
              "</table>\n",
              "</div>"
            ],
            "text/plain": [
              "    n_layers n_neurons n_epochs  ...   metrics train_result test_result\n",
              "52         3       128       10  ...  accuracy      0.86685      0.8680\n",
              "16         3        64       10  ...  accuracy      0.86645      0.8656\n",
              "132        4        64       10  ...  accuracy      0.85360      0.8654\n",
              "\n",
              "[3 rows x 10 columns]"
            ]
          },
          "metadata": {},
          "execution_count": 50
        }
      ]
    },
    {
      "cell_type": "code",
      "metadata": {
        "id": "o1IykwSjeARm",
        "colab": {
          "base_uri": "https://localhost:8080/",
          "height": 142
        },
        "outputId": "b6ff278f-51ae-4fe3-a979-5d01a136912c"
      },
      "source": [
        "# Лучшие результаты AUC\n",
        "result2.loc[result2.metrics=='AUC'].sort_values('test_result', ascending=False).head(3)"
      ],
      "execution_count": 51,
      "outputs": [
        {
          "output_type": "execute_result",
          "data": {
            "text/html": [
              "<div>\n",
              "<style scoped>\n",
              "    .dataframe tbody tr th:only-of-type {\n",
              "        vertical-align: middle;\n",
              "    }\n",
              "\n",
              "    .dataframe tbody tr th {\n",
              "        vertical-align: top;\n",
              "    }\n",
              "\n",
              "    .dataframe thead th {\n",
              "        text-align: right;\n",
              "    }\n",
              "</style>\n",
              "<table border=\"1\" class=\"dataframe\">\n",
              "  <thead>\n",
              "    <tr style=\"text-align: right;\">\n",
              "      <th></th>\n",
              "      <th>n_layers</th>\n",
              "      <th>n_neurons</th>\n",
              "      <th>n_epochs</th>\n",
              "      <th>active_func1</th>\n",
              "      <th>active_func2</th>\n",
              "      <th>loss_func</th>\n",
              "      <th>optim</th>\n",
              "      <th>metrics</th>\n",
              "      <th>train_result</th>\n",
              "      <th>test_result</th>\n",
              "    </tr>\n",
              "  </thead>\n",
              "  <tbody>\n",
              "    <tr>\n",
              "      <th>146</th>\n",
              "      <td>4</td>\n",
              "      <td>128</td>\n",
              "      <td>10</td>\n",
              "      <td>relu</td>\n",
              "      <td>sigmoid</td>\n",
              "      <td>binary_crossentropy</td>\n",
              "      <td>Adam</td>\n",
              "      <td>AUC</td>\n",
              "      <td>0.949533</td>\n",
              "      <td>0.939402</td>\n",
              "    </tr>\n",
              "    <tr>\n",
              "      <th>150</th>\n",
              "      <td>4</td>\n",
              "      <td>128</td>\n",
              "      <td>10</td>\n",
              "      <td>relu</td>\n",
              "      <td>sigmoid</td>\n",
              "      <td>binary_crossentropy</td>\n",
              "      <td>RMSprop</td>\n",
              "      <td>AUC</td>\n",
              "      <td>0.940472</td>\n",
              "      <td>0.939338</td>\n",
              "    </tr>\n",
              "    <tr>\n",
              "      <th>98</th>\n",
              "      <td>4</td>\n",
              "      <td>64</td>\n",
              "      <td>10</td>\n",
              "      <td>relu</td>\n",
              "      <td>sigmoid</td>\n",
              "      <td>binary_crossentropy</td>\n",
              "      <td>Adam</td>\n",
              "      <td>AUC</td>\n",
              "      <td>0.947254</td>\n",
              "      <td>0.939278</td>\n",
              "    </tr>\n",
              "  </tbody>\n",
              "</table>\n",
              "</div>"
            ],
            "text/plain": [
              "    n_layers n_neurons n_epochs  ... metrics train_result test_result\n",
              "146        4       128       10  ...     AUC     0.949533    0.939402\n",
              "150        4       128       10  ...     AUC     0.940472    0.939338\n",
              "98         4        64       10  ...     AUC     0.947254    0.939278\n",
              "\n",
              "[3 rows x 10 columns]"
            ]
          },
          "metadata": {},
          "execution_count": 51
        }
      ]
    },
    {
      "cell_type": "code",
      "metadata": {
        "id": "q5kJ_OLXsqb1",
        "colab": {
          "base_uri": "https://localhost:8080/",
          "height": 142
        },
        "outputId": "213fa161-25a3-465d-ffc7-6442fb6f98a3"
      },
      "source": [
        "# Худшие результаты Accuracy\n",
        "result2.loc[result2.metrics=='accuracy'].sort_values('test_result', ascending=True).head(3)"
      ],
      "execution_count": 52,
      "outputs": [
        {
          "output_type": "execute_result",
          "data": {
            "text/html": [
              "<div>\n",
              "<style scoped>\n",
              "    .dataframe tbody tr th:only-of-type {\n",
              "        vertical-align: middle;\n",
              "    }\n",
              "\n",
              "    .dataframe tbody tr th {\n",
              "        vertical-align: top;\n",
              "    }\n",
              "\n",
              "    .dataframe thead th {\n",
              "        text-align: right;\n",
              "    }\n",
              "</style>\n",
              "<table border=\"1\" class=\"dataframe\">\n",
              "  <thead>\n",
              "    <tr style=\"text-align: right;\">\n",
              "      <th></th>\n",
              "      <th>n_layers</th>\n",
              "      <th>n_neurons</th>\n",
              "      <th>n_epochs</th>\n",
              "      <th>active_func1</th>\n",
              "      <th>active_func2</th>\n",
              "      <th>loss_func</th>\n",
              "      <th>optim</th>\n",
              "      <th>metrics</th>\n",
              "      <th>train_result</th>\n",
              "      <th>test_result</th>\n",
              "    </tr>\n",
              "  </thead>\n",
              "  <tbody>\n",
              "    <tr>\n",
              "      <th>93</th>\n",
              "      <td>3</td>\n",
              "      <td>128</td>\n",
              "      <td>10</td>\n",
              "      <td>tanh</td>\n",
              "      <td>softmax</td>\n",
              "      <td>Poisson</td>\n",
              "      <td>RMSprop</td>\n",
              "      <td>accuracy</td>\n",
              "      <td>0.50155</td>\n",
              "      <td>0.4938</td>\n",
              "    </tr>\n",
              "    <tr>\n",
              "      <th>129</th>\n",
              "      <td>4</td>\n",
              "      <td>64</td>\n",
              "      <td>10</td>\n",
              "      <td>tanh</td>\n",
              "      <td>softmax</td>\n",
              "      <td>binary_crossentropy</td>\n",
              "      <td>Adam</td>\n",
              "      <td>accuracy</td>\n",
              "      <td>0.50155</td>\n",
              "      <td>0.4938</td>\n",
              "    </tr>\n",
              "    <tr>\n",
              "      <th>125</th>\n",
              "      <td>4</td>\n",
              "      <td>64</td>\n",
              "      <td>10</td>\n",
              "      <td>sigmoid</td>\n",
              "      <td>softmax</td>\n",
              "      <td>Poisson</td>\n",
              "      <td>RMSprop</td>\n",
              "      <td>accuracy</td>\n",
              "      <td>0.50155</td>\n",
              "      <td>0.4938</td>\n",
              "    </tr>\n",
              "  </tbody>\n",
              "</table>\n",
              "</div>"
            ],
            "text/plain": [
              "    n_layers n_neurons n_epochs  ...   metrics train_result test_result\n",
              "93         3       128       10  ...  accuracy      0.50155      0.4938\n",
              "129        4        64       10  ...  accuracy      0.50155      0.4938\n",
              "125        4        64       10  ...  accuracy      0.50155      0.4938\n",
              "\n",
              "[3 rows x 10 columns]"
            ]
          },
          "metadata": {},
          "execution_count": 52
        }
      ]
    },
    {
      "cell_type": "code",
      "metadata": {
        "id": "9WtKo-BJsvKm",
        "colab": {
          "base_uri": "https://localhost:8080/",
          "height": 142
        },
        "outputId": "4126ee53-418f-448a-929a-5c1ac9d4b8d3"
      },
      "source": [
        "# Худшие результаты AUC\n",
        "result2.loc[result2.metrics=='AUC'].sort_values('test_result', ascending=True).head(3)"
      ],
      "execution_count": 53,
      "outputs": [
        {
          "output_type": "execute_result",
          "data": {
            "text/html": [
              "<div>\n",
              "<style scoped>\n",
              "    .dataframe tbody tr th:only-of-type {\n",
              "        vertical-align: middle;\n",
              "    }\n",
              "\n",
              "    .dataframe tbody tr th {\n",
              "        vertical-align: top;\n",
              "    }\n",
              "\n",
              "    .dataframe thead th {\n",
              "        text-align: right;\n",
              "    }\n",
              "</style>\n",
              "<table border=\"1\" class=\"dataframe\">\n",
              "  <thead>\n",
              "    <tr style=\"text-align: right;\">\n",
              "      <th></th>\n",
              "      <th>n_layers</th>\n",
              "      <th>n_neurons</th>\n",
              "      <th>n_epochs</th>\n",
              "      <th>active_func1</th>\n",
              "      <th>active_func2</th>\n",
              "      <th>loss_func</th>\n",
              "      <th>optim</th>\n",
              "      <th>metrics</th>\n",
              "      <th>train_result</th>\n",
              "      <th>test_result</th>\n",
              "    </tr>\n",
              "  </thead>\n",
              "  <tbody>\n",
              "    <tr>\n",
              "      <th>95</th>\n",
              "      <td>3</td>\n",
              "      <td>128</td>\n",
              "      <td>10</td>\n",
              "      <td>tanh</td>\n",
              "      <td>softmax</td>\n",
              "      <td>Poisson</td>\n",
              "      <td>RMSprop</td>\n",
              "      <td>AUC</td>\n",
              "      <td>0.5</td>\n",
              "      <td>0.5</td>\n",
              "    </tr>\n",
              "    <tr>\n",
              "      <th>135</th>\n",
              "      <td>4</td>\n",
              "      <td>64</td>\n",
              "      <td>10</td>\n",
              "      <td>tanh</td>\n",
              "      <td>softmax</td>\n",
              "      <td>binary_crossentropy</td>\n",
              "      <td>RMSprop</td>\n",
              "      <td>AUC</td>\n",
              "      <td>0.5</td>\n",
              "      <td>0.5</td>\n",
              "    </tr>\n",
              "    <tr>\n",
              "      <th>131</th>\n",
              "      <td>4</td>\n",
              "      <td>64</td>\n",
              "      <td>10</td>\n",
              "      <td>tanh</td>\n",
              "      <td>softmax</td>\n",
              "      <td>binary_crossentropy</td>\n",
              "      <td>Adam</td>\n",
              "      <td>AUC</td>\n",
              "      <td>0.5</td>\n",
              "      <td>0.5</td>\n",
              "    </tr>\n",
              "  </tbody>\n",
              "</table>\n",
              "</div>"
            ],
            "text/plain": [
              "    n_layers n_neurons n_epochs  ... metrics train_result test_result\n",
              "95         3       128       10  ...     AUC          0.5         0.5\n",
              "135        4        64       10  ...     AUC          0.5         0.5\n",
              "131        4        64       10  ...     AUC          0.5         0.5\n",
              "\n",
              "[3 rows x 10 columns]"
            ]
          },
          "metadata": {},
          "execution_count": 53
        }
      ]
    },
    {
      "cell_type": "markdown",
      "metadata": {
        "id": "Ir2dJxD4R7Es"
      },
      "source": [
        "Для этой задачи использованы метрики accuracy, AUC. Лучшие результаты достигнуты c активационными функциями relu+sigmoid, 128 нейронами, лучшая функция потерь binary_crossentropy. Для повышения accuracy больше подошла модель с 3 слоями, оптимизатором RMSProp. Для AUC - модель с 4 слоями и оптимизатором Adam. \n",
        "\n",
        "Плохие результаты демонстрирует комбинация активационных функций tanh+softmax."
      ]
    },
    {
      "cell_type": "code",
      "metadata": {
        "id": "6GtCn__-TTM3"
      },
      "source": [
        ""
      ],
      "execution_count": null,
      "outputs": []
    }
  ]
}