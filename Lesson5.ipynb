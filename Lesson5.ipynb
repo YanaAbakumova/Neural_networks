{
  "nbformat": 4,
  "nbformat_minor": 0,
  "metadata": {
    "colab": {
      "name": "Lesson5.ipynb",
      "provenance": [],
      "collapsed_sections": [],
      "authorship_tag": "ABX9TyNGWc5CsRYvM35oA8Vfbh4F",
      "include_colab_link": true
    },
    "kernelspec": {
      "name": "python3",
      "display_name": "Python 3"
    },
    "language_info": {
      "name": "python"
    }
  },
  "cells": [
    {
      "cell_type": "markdown",
      "metadata": {
        "id": "view-in-github",
        "colab_type": "text"
      },
      "source": [
        "<a href=\"https://colab.research.google.com/github/YanaAbakumova/Neural_networks/blob/lesson_5/Lesson5.ipynb\" target=\"_parent\"><img src=\"https://colab.research.google.com/assets/colab-badge.svg\" alt=\"Open In Colab\"/></a>"
      ]
    },
    {
      "cell_type": "markdown",
      "metadata": {
        "id": "7SSDCv3i2ZT_"
      },
      "source": [
        "## Практическое задание\n",
        "\n",
        "<ol>\n",
        "    <li>Попробуйте обучить нейронную сеть LSTM на любом другом датасете (любимый временной ряд, текст на русском (другом языке) как генератор или классификатор, или прилагаемый набор airline-passengers - пасажиропоток для авиалиний). Опишите, какой результата вы получили? Что помогло вам улучшить ее точность?\n",
        "\n",
        "    \n",
        "<li>*Попробуйте на numpy реализовать нейронную сеть архитектуры LSTM</li>\n",
        "<li>*Предложите свои варианты решения проблемы исчезающего градиента в RNN</li>\n",
        "</ol>"
      ]
    },
    {
      "cell_type": "code",
      "metadata": {
        "id": "9IgFSfzLjNX8"
      },
      "source": [
        "import numpy as np\n",
        "import pandas as pd\n",
        "import tensorflow.keras as keras\n",
        "from tensorflow.keras import utils\n",
        "from tensorflow.keras.callbacks import EarlyStopping\n",
        "from tensorflow.keras.models import Sequential, Model\n",
        "import matplotlib.pyplot as plt\n",
        "from sklearn.preprocessing import StandardScaler\n",
        "from tensorflow.keras.layers import concatenate, Input, Dense, Dropout, BatchNormalization, Flatten, Conv1D, Conv2D, LSTM"
      ],
      "execution_count": null,
      "outputs": []
    },
    {
      "cell_type": "code",
      "metadata": {
        "colab": {
          "base_uri": "https://localhost:8080/"
        },
        "id": "a_oZLzfpzN2Z",
        "outputId": "6fe37646-9ede-4666-8923-d60481aa636a"
      },
      "source": [
        "from google.colab import drive \n",
        "drive.mount('/content/drive/')"
      ],
      "execution_count": null,
      "outputs": [
        {
          "output_type": "stream",
          "name": "stdout",
          "text": [
            "Mounted at /content/drive/\n"
          ]
        }
      ]
    },
    {
      "cell_type": "code",
      "metadata": {
        "id": "LzNYCJ_WopE2"
      },
      "source": [
        "airlines= pd.read_csv('/content/drive/MyDrive/airline-passengers.csv')"
      ],
      "execution_count": null,
      "outputs": []
    },
    {
      "cell_type": "code",
      "metadata": {
        "colab": {
          "base_uri": "https://localhost:8080/",
          "height": 204
        },
        "id": "5Ag23aIk9lEO",
        "outputId": "4e83d7a5-23d5-4b8d-d564-64b78414df54"
      },
      "source": [
        "airlines.head()"
      ],
      "execution_count": 236,
      "outputs": [
        {
          "output_type": "execute_result",
          "data": {
            "text/html": [
              "<div>\n",
              "<style scoped>\n",
              "    .dataframe tbody tr th:only-of-type {\n",
              "        vertical-align: middle;\n",
              "    }\n",
              "\n",
              "    .dataframe tbody tr th {\n",
              "        vertical-align: top;\n",
              "    }\n",
              "\n",
              "    .dataframe thead th {\n",
              "        text-align: right;\n",
              "    }\n",
              "</style>\n",
              "<table border=\"1\" class=\"dataframe\">\n",
              "  <thead>\n",
              "    <tr style=\"text-align: right;\">\n",
              "      <th></th>\n",
              "      <th>Month</th>\n",
              "      <th>Passengers</th>\n",
              "    </tr>\n",
              "  </thead>\n",
              "  <tbody>\n",
              "    <tr>\n",
              "      <th>0</th>\n",
              "      <td>1949-01</td>\n",
              "      <td>112</td>\n",
              "    </tr>\n",
              "    <tr>\n",
              "      <th>1</th>\n",
              "      <td>1949-02</td>\n",
              "      <td>118</td>\n",
              "    </tr>\n",
              "    <tr>\n",
              "      <th>2</th>\n",
              "      <td>1949-03</td>\n",
              "      <td>132</td>\n",
              "    </tr>\n",
              "    <tr>\n",
              "      <th>3</th>\n",
              "      <td>1949-04</td>\n",
              "      <td>129</td>\n",
              "    </tr>\n",
              "    <tr>\n",
              "      <th>4</th>\n",
              "      <td>1949-05</td>\n",
              "      <td>121</td>\n",
              "    </tr>\n",
              "  </tbody>\n",
              "</table>\n",
              "</div>"
            ],
            "text/plain": [
              "     Month  Passengers\n",
              "0  1949-01         112\n",
              "1  1949-02         118\n",
              "2  1949-03         132\n",
              "3  1949-04         129\n",
              "4  1949-05         121"
            ]
          },
          "metadata": {},
          "execution_count": 236
        }
      ]
    },
    {
      "cell_type": "code",
      "metadata": {
        "colab": {
          "base_uri": "https://localhost:8080/"
        },
        "id": "YORt9RMEEor6",
        "outputId": "aa1d579f-d0b6-4816-e64e-5aa5846f2a3b"
      },
      "source": [
        "airlines.shape"
      ],
      "execution_count": null,
      "outputs": [
        {
          "output_type": "execute_result",
          "data": {
            "text/plain": [
              "(144, 2)"
            ]
          },
          "metadata": {},
          "execution_count": 176
        }
      ]
    },
    {
      "cell_type": "code",
      "metadata": {
        "colab": {
          "base_uri": "https://localhost:8080/",
          "height": 282
        },
        "id": "7FuzFlPVxvX_",
        "outputId": "12ad2547-f549-471f-c038-ab0ad8e18ac5"
      },
      "source": [
        "plt.plot(np.linspace(0, 144, 144), airlines['Passengers'])"
      ],
      "execution_count": null,
      "outputs": [
        {
          "output_type": "execute_result",
          "data": {
            "text/plain": [
              "[<matplotlib.lines.Line2D at 0x7f94c3ed5710>]"
            ]
          },
          "metadata": {},
          "execution_count": 177
        },
        {
          "output_type": "display_data",
          "data": {
            "image/png": "[encoded data removed]",
            "text/plain": [
              "<Figure size 432x288 with 1 Axes>"
            ]
          },
          "metadata": {
            "needs_background": "light"
          }
        }
      ]
    },
    {
      "cell_type": "code",
      "metadata": {
        "id": "RzO9IARN-yg4"
      },
      "source": [
        "values = airlines['Passengers'].values"
      ],
      "execution_count": 315,
      "outputs": []
    },
    {
      "cell_type": "code",
      "metadata": {
        "id": "B_JoZXnh1rMA"
      },
      "source": [
        "#train_split = int(len(values)*0.7)\n",
        "scaler = StandardScaler()\n",
        "data_v = scaler.fit_transform(values.reshape(-1, 1))\n",
        "data_f = pd.DataFrame(data_v)"
      ],
      "execution_count": 316,
      "outputs": []
    },
    {
      "cell_type": "code",
      "metadata": {
        "colab": {
          "base_uri": "https://localhost:8080/"
        },
        "id": "uh9DifJc9eAr",
        "outputId": "08772e1a-46ce-42f4-a914-ad7adc711cad"
      },
      "source": [
        "# список признаков, по которым будем учить\n",
        "channelIndexes = [0]\n",
        "\n",
        "# длина теста\n",
        "valLen = int(data_f.shape[0]*0.3)\n",
        "# длина истории для работы\n",
        "xLen = 8\n",
        "# отступ тестов от тренировок\n",
        "bias = 1\n",
        "\n",
        "# вычисляем точку разделения ряда на тесты и тренировку\n",
        "train_split = data_f.shape[0] - valLen - bias\n",
        "# делим\n",
        "train_data = data_f.iloc[0 : train_split ,channelIndexes]\n",
        "val_data = data_f.iloc[train_split+bias:,channelIndexes]\n",
        "print(f' train_data.shape {train_data.shape}')\n",
        "print(f' val_data.shape {val_data.shape}')"
      ],
      "execution_count": 351,
      "outputs": [
        {
          "output_type": "stream",
          "name": "stdout",
          "text": [
            " train_data.shape (100, 1)\n",
            " val_data.shape (43, 1)\n"
          ]
        }
      ]
    },
    {
      "cell_type": "code",
      "metadata": {
        "id": "t9F9YhcmBGYe"
      },
      "source": [
        "# шаг по данным для построения обучающих примеров\n",
        "step = 1\n",
        "\n",
        "# длина прошлого \n",
        "past = xLen\n",
        "p = past\n",
        "# горизонт предсказания\n",
        "future = 1\n",
        "h=future\n",
        "\n",
        "# параметры модели для обучения\n",
        "learning_rate = 0.001\n",
        "batch_size = 1\n",
        "epochs = 10"
      ],
      "execution_count": 352,
      "outputs": []
    },
    {
      "cell_type": "code",
      "metadata": {
        "id": "-uwSfzWZKAa6"
      },
      "source": [
        "Chanel_numb = len(channelIndexes)\n",
        "\n",
        "xTrain_df = train_data.iloc[:-future-xLen+1,:] # сдвиг по времени для предсказания (закончить чуть раньше)\n",
        "xTrain = xTrain_df[[train_data.columns[i] for i in range(Chanel_numb)]].values\n",
        "yTrain = train_data.iloc[future+xLen-1:,0].values  # сдвиг по времени для предсказания (начать чуть позднее)\n",
        "\n",
        "sequence_length = int(xLen / step)\n",
        "\n",
        "\n",
        "x_end = len(val_data) - xLen - future \n",
        "\n",
        "label_start = len(train_data)+bias+xLen + future +1\n",
        "\n",
        "xVal_df = val_data.iloc[:-future-xLen+1,:] # сдвиг по времени для предсказания (закончить чуть раньше)\n",
        "xVal = xVal_df[[val_data.columns[i] for i in range(Chanel_numb)]].values\n",
        "yVal = val_data.iloc[future+xLen-1:,0].values  # сдвиг по времени для предсказания (начать чуть позднее)\n"
      ],
      "execution_count": 353,
      "outputs": []
    },
    {
      "cell_type": "code",
      "metadata": {
        "colab": {
          "base_uri": "https://localhost:8080/"
        },
        "id": "fzYQSNRYYmvd",
        "outputId": "07772b75-e0bb-4f80-ae0f-51a7ff23127b"
      },
      "source": [
        "yVal.shape"
      ],
      "execution_count": 354,
      "outputs": [
        {
          "output_type": "execute_result",
          "data": {
            "text/plain": [
              "(35,)"
            ]
          },
          "metadata": {},
          "execution_count": 354
        }
      ]
    },
    {
      "cell_type": "code",
      "metadata": {
        "colab": {
          "base_uri": "https://localhost:8080/"
        },
        "id": "cKIVi9TgYp0X",
        "outputId": "72c29eb0-58d2-48f0-c5db-910ca8be8857"
      },
      "source": [
        "yTrain.shape"
      ],
      "execution_count": 355,
      "outputs": [
        {
          "output_type": "execute_result",
          "data": {
            "text/plain": [
              "(92,)"
            ]
          },
          "metadata": {},
          "execution_count": 355
        }
      ]
    },
    {
      "cell_type": "code",
      "metadata": {
        "colab": {
          "base_uri": "https://localhost:8080/",
          "height": 334
        },
        "id": "tNaztusBLvev",
        "outputId": "f4d4dc54-ca94-4fb1-ad7b-c42f4e203248"
      },
      "source": [
        "plt.figure(figsize=(10,5))\n",
        "plt.plot(data_f.index[xLen:yTrain.shape[0]+xLen],yTrain[:])\n",
        "plt.plot(data_f.index[yTrain.shape[0]+bias+future+2*xLen-1:],yVal[:])\n",
        "plt.grid('on')\n",
        "plt.xlabel('t, месяцы')\n",
        "plt.ylabel('Кол-во пассажиров')\n",
        "plt.show()"
      ],
      "execution_count": 345,
      "outputs": [
        {
          "output_type": "display_data",
          "data": {
            "image/png": "[encoded data removed]",
            "text/plain": [
              "<Figure size 720x360 with 1 Axes>"
            ]
          },
          "metadata": {
            "needs_background": "light"
          }
        }
      ]
    },
    {
      "cell_type": "code",
      "metadata": {
        "id": "jtSeOMR-Ly7J"
      },
      "source": [
        "dataset_train = keras.preprocessing.timeseries_dataset_from_array(\n",
        "    xTrain,\n",
        "    yTrain,\n",
        "    sequence_length=10,\n",
        "    sampling_rate=1,\n",
        "    batch_size=28,\n",
        ")\n",
        "dataset_val = keras.preprocessing.timeseries_dataset_from_array(\n",
        "    xVal,\n",
        "    yVal,\n",
        "    sequence_length=10,\n",
        "    sampling_rate=1,\n",
        "    batch_size=26,\n",
        ")\n"
      ],
      "execution_count": 356,
      "outputs": []
    },
    {
      "cell_type": "code",
      "metadata": {
        "colab": {
          "base_uri": "https://localhost:8080/"
        },
        "id": "xiJ-gfsoMw8B",
        "outputId": "e713229d-faf7-4ddf-9a93-02b9d023ff30"
      },
      "source": [
        "for batch in dataset_val.take(2):\n",
        "    inputs, targets = batch\n",
        "\n",
        "print(\"Input shape:\", inputs.numpy().shape)\n",
        "print(\"Target shape:\", targets.numpy().shape)"
      ],
      "execution_count": 357,
      "outputs": [
        {
          "output_type": "stream",
          "name": "stdout",
          "text": [
            "Input shape: (26, 10, 1)\n",
            "Target shape: (26,)\n"
          ]
        }
      ]
    },
    {
      "cell_type": "code",
      "metadata": {
        "colab": {
          "base_uri": "https://localhost:8080/"
        },
        "id": "frH9NV_ERepg",
        "outputId": "354ada03-2c98-49d1-9772-6fe3953cd032"
      },
      "source": [
        "for batch in dataset_train.take(2):\n",
        "    inputs, targets = batch\n",
        "\n",
        "print(\"Input shape:\", inputs.numpy().shape)\n",
        "print(\"Target shape:\", targets.numpy().shape)"
      ],
      "execution_count": 358,
      "outputs": [
        {
          "output_type": "stream",
          "name": "stdout",
          "text": [
            "Input shape: (28, 10, 1)\n",
            "Target shape: (28,)\n"
          ]
        }
      ]
    },
    {
      "cell_type": "code",
      "metadata": {
        "colab": {
          "base_uri": "https://localhost:8080/"
        },
        "id": "i0RKsr94A6Ey",
        "outputId": "5f9031db-7820-4ac2-e4b9-6b0360d8afec"
      },
      "source": [
        "#модель с loss = mse, optimizer=adam, epochs=85\n",
        "callbaсk = EarlyStopping(monitor='val_mae', patience=5)\n",
        "\n",
        "model = Sequential()\n",
        "\n",
        "model.add(LSTM(128, input_shape = (inputs.shape[1], inputs.shape[2]), dropout=0.2, recurrent_dropout=0.2, return_sequences=\"True\"))\n",
        "model.add(Conv1D(128, 5, activation=\"linear\")) #(None,3,64)\n",
        "model.add(Conv1D(64, 3, activation=\"linear\"))\n",
        "model.add(Conv1D(32, 3, activation=\"linear\"))\n",
        "model.add(Conv1D(16, 1, activation=\"linear\"))\n",
        "model.add(Flatten())                          # (None, 3*64)\n",
        "model.add(Dense(512, activation=\"linear\"))  \n",
        "model.add(Dense(128, activation=\"linear\"))    \n",
        "model.add(Dense(32, activation=\"linear\"))  # (None,3)\n",
        "model.add(Dense(1, activation=\"linear\"))\n",
        "\n",
        "model.compile(loss=\"mse\", optimizer=\"adam\", metrics=['mae'])\n",
        "\n",
        "history = model.fit(\n",
        "    dataset_train,\n",
        "    epochs=85,\n",
        "    validation_data=dataset_val)"
      ],
      "execution_count": 383,
      "outputs": [
        {
          "output_type": "stream",
          "name": "stdout",
          "text": [
            "Epoch 1/85\n",
            "3/3 [==============================] - 3s 234ms/step - loss: 0.6742 - mae: 0.6857 - val_loss: 0.5567 - val_mae: 0.5763\n",
            "Epoch 2/85\n",
            "3/3 [==============================] - 0s 71ms/step - loss: 0.0856 - mae: 0.2347 - val_loss: 2.9291 - val_mae: 1.6504\n",
            "Epoch 3/85\n",
            "3/3 [==============================] - 0s 74ms/step - loss: 1.3911 - mae: 1.0467 - val_loss: 3.6072 - val_mae: 1.5711\n",
            "Epoch 4/85\n",
            "3/3 [==============================] - 0s 75ms/step - loss: 2.9313 - mae: 1.2650 - val_loss: 1.1143 - val_mae: 0.9371\n",
            "Epoch 5/85\n",
            "3/3 [==============================] - 0s 77ms/step - loss: 0.3631 - mae: 0.5262 - val_loss: 2.0151 - val_mae: 1.3250\n",
            "Epoch 6/85\n",
            "3/3 [==============================] - 0s 74ms/step - loss: 0.6602 - mae: 0.6836 - val_loss: 1.6827 - val_mae: 1.1747\n",
            "Epoch 7/85\n",
            "3/3 [==============================] - 0s 70ms/step - loss: 0.4139 - mae: 0.5386 - val_loss: 1.2210 - val_mae: 0.9278\n",
            "Epoch 8/85\n",
            "3/3 [==============================] - 0s 73ms/step - loss: 0.2255 - mae: 0.3912 - val_loss: 0.8478 - val_mae: 0.6894\n",
            "Epoch 9/85\n",
            "3/3 [==============================] - 0s 79ms/step - loss: 0.1879 - mae: 0.3349 - val_loss: 0.6885 - val_mae: 0.6294\n",
            "Epoch 10/85\n",
            "3/3 [==============================] - 0s 77ms/step - loss: 0.2063 - mae: 0.3549 - val_loss: 0.7037 - val_mae: 0.6214\n",
            "Epoch 11/85\n",
            "3/3 [==============================] - 0s 71ms/step - loss: 0.1378 - mae: 0.2890 - val_loss: 0.8218 - val_mae: 0.7013\n",
            "Epoch 12/85\n",
            "3/3 [==============================] - 0s 70ms/step - loss: 0.1469 - mae: 0.3101 - val_loss: 0.8000 - val_mae: 0.6975\n",
            "Epoch 13/85\n",
            "3/3 [==============================] - 0s 70ms/step - loss: 0.1563 - mae: 0.3221 - val_loss: 0.6062 - val_mae: 0.5749\n",
            "Epoch 14/85\n",
            "3/3 [==============================] - 0s 75ms/step - loss: 0.1221 - mae: 0.2781 - val_loss: 0.4758 - val_mae: 0.5554\n",
            "Epoch 15/85\n",
            "3/3 [==============================] - 0s 82ms/step - loss: 0.1268 - mae: 0.2927 - val_loss: 0.4456 - val_mae: 0.5482\n",
            "Epoch 16/85\n",
            "3/3 [==============================] - 0s 73ms/step - loss: 0.1044 - mae: 0.2630 - val_loss: 0.4168 - val_mae: 0.5228\n",
            "Epoch 17/85\n",
            "3/3 [==============================] - 0s 72ms/step - loss: 0.0971 - mae: 0.2495 - val_loss: 0.3916 - val_mae: 0.5044\n",
            "Epoch 18/85\n",
            "3/3 [==============================] - 0s 71ms/step - loss: 0.1118 - mae: 0.2705 - val_loss: 0.3827 - val_mae: 0.5070\n",
            "Epoch 19/85\n",
            "3/3 [==============================] - 0s 76ms/step - loss: 0.0977 - mae: 0.2597 - val_loss: 0.3920 - val_mae: 0.5294\n",
            "Epoch 20/85\n",
            "3/3 [==============================] - 0s 77ms/step - loss: 0.0938 - mae: 0.2436 - val_loss: 0.3642 - val_mae: 0.5072\n",
            "Epoch 21/85\n",
            "3/3 [==============================] - 0s 80ms/step - loss: 0.0848 - mae: 0.2408 - val_loss: 0.3236 - val_mae: 0.4626\n",
            "Epoch 22/85\n",
            "3/3 [==============================] - 0s 71ms/step - loss: 0.0857 - mae: 0.2377 - val_loss: 0.3167 - val_mae: 0.4655\n",
            "Epoch 23/85\n",
            "3/3 [==============================] - 0s 71ms/step - loss: 0.0976 - mae: 0.2445 - val_loss: 0.3282 - val_mae: 0.4851\n",
            "Epoch 24/85\n",
            "3/3 [==============================] - 0s 72ms/step - loss: 0.0870 - mae: 0.2366 - val_loss: 0.2978 - val_mae: 0.4557\n",
            "Epoch 25/85\n",
            "3/3 [==============================] - 0s 69ms/step - loss: 0.0809 - mae: 0.2341 - val_loss: 0.2687 - val_mae: 0.4106\n",
            "Epoch 26/85\n",
            "3/3 [==============================] - 0s 75ms/step - loss: 0.0698 - mae: 0.2037 - val_loss: 0.2577 - val_mae: 0.4022\n",
            "Epoch 27/85\n",
            "3/3 [==============================] - 0s 71ms/step - loss: 0.0706 - mae: 0.2118 - val_loss: 0.2483 - val_mae: 0.4039\n",
            "Epoch 28/85\n",
            "3/3 [==============================] - 0s 78ms/step - loss: 0.0666 - mae: 0.2091 - val_loss: 0.2300 - val_mae: 0.3789\n",
            "Epoch 29/85\n",
            "3/3 [==============================] - 0s 74ms/step - loss: 0.0646 - mae: 0.2071 - val_loss: 0.2136 - val_mae: 0.3645\n",
            "Epoch 30/85\n",
            "3/3 [==============================] - 0s 73ms/step - loss: 0.0677 - mae: 0.2138 - val_loss: 0.2046 - val_mae: 0.3724\n",
            "Epoch 31/85\n",
            "3/3 [==============================] - 0s 73ms/step - loss: 0.0591 - mae: 0.1917 - val_loss: 0.1838 - val_mae: 0.3420\n",
            "Epoch 32/85\n",
            "3/3 [==============================] - 0s 74ms/step - loss: 0.0603 - mae: 0.1923 - val_loss: 0.1677 - val_mae: 0.3245\n",
            "Epoch 33/85\n",
            "3/3 [==============================] - 0s 72ms/step - loss: 0.0586 - mae: 0.1831 - val_loss: 0.1526 - val_mae: 0.3104\n",
            "Epoch 34/85\n",
            "3/3 [==============================] - 0s 72ms/step - loss: 0.0615 - mae: 0.1898 - val_loss: 0.1572 - val_mae: 0.3279\n",
            "Epoch 35/85\n",
            "3/3 [==============================] - 0s 73ms/step - loss: 0.0576 - mae: 0.1822 - val_loss: 0.1423 - val_mae: 0.3098\n",
            "Epoch 36/85\n",
            "3/3 [==============================] - 0s 73ms/step - loss: 0.0494 - mae: 0.1778 - val_loss: 0.1266 - val_mae: 0.2876\n",
            "Epoch 37/85\n",
            "3/3 [==============================] - 0s 77ms/step - loss: 0.0494 - mae: 0.1782 - val_loss: 0.1131 - val_mae: 0.2709\n",
            "Epoch 38/85\n",
            "3/3 [==============================] - 0s 70ms/step - loss: 0.0625 - mae: 0.1973 - val_loss: 0.1250 - val_mae: 0.2975\n",
            "Epoch 39/85\n",
            "3/3 [==============================] - 0s 72ms/step - loss: 0.0480 - mae: 0.1762 - val_loss: 0.1066 - val_mae: 0.2585\n",
            "Epoch 40/85\n",
            "3/3 [==============================] - 0s 72ms/step - loss: 0.0626 - mae: 0.2045 - val_loss: 0.1028 - val_mae: 0.2570\n",
            "Epoch 41/85\n",
            "3/3 [==============================] - 0s 76ms/step - loss: 0.0442 - mae: 0.1665 - val_loss: 0.1000 - val_mae: 0.2583\n",
            "Epoch 42/85\n",
            "3/3 [==============================] - 0s 77ms/step - loss: 0.0484 - mae: 0.1682 - val_loss: 0.1099 - val_mae: 0.2510\n",
            "Epoch 43/85\n",
            "3/3 [==============================] - 0s 70ms/step - loss: 0.0499 - mae: 0.1744 - val_loss: 0.0870 - val_mae: 0.2352\n",
            "Epoch 44/85\n",
            "3/3 [==============================] - 0s 70ms/step - loss: 0.0473 - mae: 0.1777 - val_loss: 0.1071 - val_mae: 0.2861\n",
            "Epoch 45/85\n",
            "3/3 [==============================] - 0s 77ms/step - loss: 0.0481 - mae: 0.1682 - val_loss: 0.0850 - val_mae: 0.2238\n",
            "Epoch 46/85\n",
            "3/3 [==============================] - 0s 75ms/step - loss: 0.0490 - mae: 0.1682 - val_loss: 0.0875 - val_mae: 0.2537\n",
            "Epoch 47/85\n",
            "3/3 [==============================] - 0s 71ms/step - loss: 0.0450 - mae: 0.1721 - val_loss: 0.0781 - val_mae: 0.2233\n",
            "Epoch 48/85\n",
            "3/3 [==============================] - 0s 71ms/step - loss: 0.0400 - mae: 0.1519 - val_loss: 0.0770 - val_mae: 0.2121\n",
            "Epoch 49/85\n",
            "3/3 [==============================] - 0s 74ms/step - loss: 0.0705 - mae: 0.1914 - val_loss: 0.1011 - val_mae: 0.2809\n",
            "Epoch 50/85\n",
            "3/3 [==============================] - 0s 73ms/step - loss: 0.0594 - mae: 0.2025 - val_loss: 0.0823 - val_mae: 0.2132\n",
            "Epoch 51/85\n",
            "3/3 [==============================] - 0s 72ms/step - loss: 0.0320 - mae: 0.1333 - val_loss: 0.0952 - val_mae: 0.2208\n",
            "Epoch 52/85\n",
            "3/3 [==============================] - 0s 69ms/step - loss: 0.0392 - mae: 0.1516 - val_loss: 0.0856 - val_mae: 0.2543\n",
            "Epoch 53/85\n",
            "3/3 [==============================] - 0s 75ms/step - loss: 0.0469 - mae: 0.1764 - val_loss: 0.0701 - val_mae: 0.2045\n",
            "Epoch 54/85\n",
            "3/3 [==============================] - 0s 77ms/step - loss: 0.0449 - mae: 0.1520 - val_loss: 0.1068 - val_mae: 0.2466\n",
            "Epoch 55/85\n",
            "3/3 [==============================] - 0s 70ms/step - loss: 0.0552 - mae: 0.1662 - val_loss: 0.0611 - val_mae: 0.2007\n",
            "Epoch 56/85\n",
            "3/3 [==============================] - 0s 70ms/step - loss: 0.0377 - mae: 0.1550 - val_loss: 0.0683 - val_mae: 0.2260\n",
            "Epoch 57/85\n",
            "3/3 [==============================] - 0s 77ms/step - loss: 0.0486 - mae: 0.1722 - val_loss: 0.0537 - val_mae: 0.1839\n",
            "Epoch 58/85\n",
            "3/3 [==============================] - 0s 75ms/step - loss: 0.0497 - mae: 0.1651 - val_loss: 0.0499 - val_mae: 0.1813\n",
            "Epoch 59/85\n",
            "3/3 [==============================] - 0s 71ms/step - loss: 0.0542 - mae: 0.1799 - val_loss: 0.0963 - val_mae: 0.2617\n",
            "Epoch 60/85\n",
            "3/3 [==============================] - 0s 69ms/step - loss: 0.0498 - mae: 0.1702 - val_loss: 0.0691 - val_mae: 0.2033\n",
            "Epoch 61/85\n",
            "3/3 [==============================] - 0s 78ms/step - loss: 0.0691 - mae: 0.1885 - val_loss: 0.0639 - val_mae: 0.2142\n",
            "Epoch 62/85\n",
            "3/3 [==============================] - 0s 69ms/step - loss: 0.0549 - mae: 0.1808 - val_loss: 0.0572 - val_mae: 0.1937\n",
            "Epoch 63/85\n",
            "3/3 [==============================] - 0s 73ms/step - loss: 0.0260 - mae: 0.1242 - val_loss: 0.0809 - val_mae: 0.2189\n",
            "Epoch 64/85\n",
            "3/3 [==============================] - 0s 71ms/step - loss: 0.0495 - mae: 0.1647 - val_loss: 0.0689 - val_mae: 0.2229\n",
            "Epoch 65/85\n",
            "3/3 [==============================] - 0s 72ms/step - loss: 0.0508 - mae: 0.1853 - val_loss: 0.0622 - val_mae: 0.1991\n",
            "Epoch 66/85\n",
            "3/3 [==============================] - 0s 78ms/step - loss: 0.0440 - mae: 0.1548 - val_loss: 0.0781 - val_mae: 0.2135\n",
            "Epoch 67/85\n",
            "3/3 [==============================] - 0s 70ms/step - loss: 0.0519 - mae: 0.1638 - val_loss: 0.0644 - val_mae: 0.2068\n",
            "Epoch 68/85\n",
            "3/3 [==============================] - 0s 73ms/step - loss: 0.0395 - mae: 0.1595 - val_loss: 0.0609 - val_mae: 0.1966\n",
            "Epoch 69/85\n",
            "3/3 [==============================] - 0s 71ms/step - loss: 0.0431 - mae: 0.1604 - val_loss: 0.0587 - val_mae: 0.1978\n",
            "Epoch 70/85\n",
            "3/3 [==============================] - 0s 72ms/step - loss: 0.0320 - mae: 0.1388 - val_loss: 0.0671 - val_mae: 0.1996\n",
            "Epoch 71/85\n",
            "3/3 [==============================] - 0s 72ms/step - loss: 0.0461 - mae: 0.1506 - val_loss: 0.0558 - val_mae: 0.1950\n",
            "Epoch 72/85\n",
            "3/3 [==============================] - 0s 70ms/step - loss: 0.0405 - mae: 0.1542 - val_loss: 0.0621 - val_mae: 0.2102\n",
            "Epoch 73/85\n",
            "3/3 [==============================] - 0s 75ms/step - loss: 0.0357 - mae: 0.1498 - val_loss: 0.0507 - val_mae: 0.1853\n",
            "Epoch 74/85\n",
            "3/3 [==============================] - 0s 74ms/step - loss: 0.0544 - mae: 0.1692 - val_loss: 0.0676 - val_mae: 0.2226\n",
            "Epoch 75/85\n",
            "3/3 [==============================] - 0s 68ms/step - loss: 0.0622 - mae: 0.1893 - val_loss: 0.0569 - val_mae: 0.1840\n",
            "Epoch 76/85\n",
            "3/3 [==============================] - 0s 76ms/step - loss: 0.0340 - mae: 0.1296 - val_loss: 0.0601 - val_mae: 0.1861\n",
            "Epoch 77/85\n",
            "3/3 [==============================] - 0s 72ms/step - loss: 0.0393 - mae: 0.1538 - val_loss: 0.0679 - val_mae: 0.2239\n",
            "Epoch 78/85\n",
            "3/3 [==============================] - 0s 73ms/step - loss: 0.0544 - mae: 0.1831 - val_loss: 0.0653 - val_mae: 0.2197\n",
            "Epoch 79/85\n",
            "3/3 [==============================] - 0s 70ms/step - loss: 0.0511 - mae: 0.1739 - val_loss: 0.0822 - val_mae: 0.2138\n",
            "Epoch 80/85\n",
            "3/3 [==============================] - 0s 76ms/step - loss: 0.0589 - mae: 0.1732 - val_loss: 0.0603 - val_mae: 0.1828\n",
            "Epoch 81/85\n",
            "3/3 [==============================] - 0s 74ms/step - loss: 0.0448 - mae: 0.1634 - val_loss: 0.0748 - val_mae: 0.2362\n",
            "Epoch 82/85\n",
            "3/3 [==============================] - 0s 76ms/step - loss: 0.0342 - mae: 0.1502 - val_loss: 0.0527 - val_mae: 0.1773\n",
            "Epoch 83/85\n",
            "3/3 [==============================] - 0s 79ms/step - loss: 0.0538 - mae: 0.1682 - val_loss: 0.0507 - val_mae: 0.1781\n",
            "Epoch 84/85\n",
            "3/3 [==============================] - 0s 72ms/step - loss: 0.0476 - mae: 0.1608 - val_loss: 0.0796 - val_mae: 0.2437\n",
            "Epoch 85/85\n",
            "3/3 [==============================] - 0s 73ms/step - loss: 0.0460 - mae: 0.1719 - val_loss: 0.0555 - val_mae: 0.1965\n"
          ]
        }
      ]
    },
    {
      "cell_type": "code",
      "metadata": {
        "colab": {
          "base_uri": "https://localhost:8080/",
          "height": 265
        },
        "id": "5hHKFNLuA6Rd",
        "outputId": "5892c8eb-3233-4caf-ee18-4251ee4d7868"
      },
      "source": [
        "plt.plot(history.history['mae'][1:], \n",
        "         label='Средняя абсолютная ошибка на обучающем наборе')\n",
        "plt.plot(history.history['val_mae'][1:], \n",
        "         label='Средняя абсолютная ошибка на проверочном наборе')\n",
        "plt.ylabel('Средняя ошибка')\n",
        "plt.legend()\n",
        "plt.show()"
      ],
      "execution_count": 384,
      "outputs": [
        {
          "output_type": "display_data",
          "data": {
            "image/png": "[encoded data removed]",
            "text/plain": [
              "<Figure size 432x288 with 1 Axes>"
            ]
          },
          "metadata": {
            "needs_background": "light"
          }
        }
      ]
    },
    {
      "cell_type": "code",
      "metadata": {
        "colab": {
          "base_uri": "https://localhost:8080/"
        },
        "id": "IGZ6DI_sA6dh",
        "outputId": "f94121e6-636c-4cb0-a0ff-afd05a47b12b"
      },
      "source": [
        "#модель с loss = mse, optimizer=RMSProp, epochs=85\n",
        "callbaсk = EarlyStopping(monitor='val_mae', patience=5)\n",
        "\n",
        "model = Sequential()\n",
        "\n",
        "model.add(LSTM(128, input_shape = (inputs.shape[1], inputs.shape[2]), dropout=0.2, recurrent_dropout=0.2, return_sequences=\"True\"))\n",
        "model.add(Conv1D(128, 5, activation=\"linear\")) #(None,3,64)\n",
        "model.add(Conv1D(64, 3, activation=\"linear\"))\n",
        "model.add(Conv1D(32, 3, activation=\"linear\"))\n",
        "model.add(Conv1D(16, 1, activation=\"linear\"))\n",
        "model.add(Flatten())                          # (None, 3*64)\n",
        "model.add(Dense(512, activation=\"linear\"))  \n",
        "model.add(Dense(128, activation=\"linear\"))    \n",
        "model.add(Dense(32, activation=\"linear\"))  # (None,3)\n",
        "model.add(Dense(1, activation=\"linear\"))\n",
        "\n",
        "model.compile(loss=\"mse\", optimizer=\"RMSProp\", metrics=['mae'])\n",
        "\n",
        "history = model.fit(\n",
        "    dataset_train,\n",
        "    epochs=85,\n",
        "    validation_data=dataset_val)"
      ],
      "execution_count": 385,
      "outputs": [
        {
          "output_type": "stream",
          "name": "stdout",
          "text": [
            "Epoch 1/85\n",
            "3/3 [==============================] - 4s 235ms/step - loss: 7.8468 - mae: 2.2674 - val_loss: 1.0823 - val_mae: 0.8392\n",
            "Epoch 2/85\n",
            "3/3 [==============================] - 0s 73ms/step - loss: 0.2458 - mae: 0.3988 - val_loss: 1.2999 - val_mae: 0.9935\n",
            "Epoch 3/85\n",
            "3/3 [==============================] - 0s 72ms/step - loss: 0.5900 - mae: 0.6490 - val_loss: 1.2175 - val_mae: 0.9611\n",
            "Epoch 4/85\n",
            "3/3 [==============================] - 0s 72ms/step - loss: 0.4656 - mae: 0.5842 - val_loss: 0.5730 - val_mae: 0.5634\n",
            "Epoch 5/85\n",
            "3/3 [==============================] - 0s 75ms/step - loss: 0.1925 - mae: 0.3714 - val_loss: 0.4558 - val_mae: 0.4994\n",
            "Epoch 6/85\n",
            "3/3 [==============================] - 0s 79ms/step - loss: 0.1139 - mae: 0.2747 - val_loss: 0.3991 - val_mae: 0.4821\n",
            "Epoch 7/85\n",
            "3/3 [==============================] - 0s 72ms/step - loss: 0.1012 - mae: 0.2606 - val_loss: 0.3635 - val_mae: 0.4653\n",
            "Epoch 8/85\n",
            "3/3 [==============================] - 0s 73ms/step - loss: 0.1311 - mae: 0.2993 - val_loss: 0.4141 - val_mae: 0.4792\n",
            "Epoch 9/85\n",
            "3/3 [==============================] - 0s 75ms/step - loss: 0.3010 - mae: 0.4573 - val_loss: 0.6113 - val_mae: 0.6157\n",
            "Epoch 10/85\n",
            "3/3 [==============================] - 0s 74ms/step - loss: 0.3267 - mae: 0.4842 - val_loss: 0.3661 - val_mae: 0.4515\n",
            "Epoch 11/85\n",
            "3/3 [==============================] - 0s 81ms/step - loss: 0.1498 - mae: 0.3162 - val_loss: 0.3422 - val_mae: 0.4346\n",
            "Epoch 12/85\n",
            "3/3 [==============================] - 0s 73ms/step - loss: 0.1666 - mae: 0.3378 - val_loss: 0.3742 - val_mae: 0.4512\n",
            "Epoch 13/85\n",
            "3/3 [==============================] - 0s 73ms/step - loss: 0.1968 - mae: 0.3779 - val_loss: 0.3725 - val_mae: 0.4520\n",
            "Epoch 14/85\n",
            "3/3 [==============================] - 0s 77ms/step - loss: 0.2619 - mae: 0.4301 - val_loss: 0.6430 - val_mae: 0.6463\n",
            "Epoch 15/85\n",
            "3/3 [==============================] - 0s 75ms/step - loss: 0.2745 - mae: 0.4324 - val_loss: 0.3031 - val_mae: 0.4048\n",
            "Epoch 16/85\n",
            "3/3 [==============================] - 0s 76ms/step - loss: 0.1437 - mae: 0.2956 - val_loss: 0.3061 - val_mae: 0.4060\n",
            "Epoch 17/85\n",
            "3/3 [==============================] - 0s 73ms/step - loss: 0.2461 - mae: 0.4181 - val_loss: 0.6481 - val_mae: 0.6638\n",
            "Epoch 18/85\n",
            "3/3 [==============================] - 0s 79ms/step - loss: 0.2684 - mae: 0.4211 - val_loss: 0.2372 - val_mae: 0.3549\n",
            "Epoch 19/85\n",
            "3/3 [==============================] - 0s 71ms/step - loss: 0.1257 - mae: 0.2852 - val_loss: 0.2803 - val_mae: 0.3838\n",
            "Epoch 20/85\n",
            "3/3 [==============================] - 0s 76ms/step - loss: 0.2112 - mae: 0.3909 - val_loss: 0.3496 - val_mae: 0.4442\n",
            "Epoch 21/85\n",
            "3/3 [==============================] - 0s 72ms/step - loss: 0.1871 - mae: 0.3755 - val_loss: 0.1951 - val_mae: 0.3187\n",
            "Epoch 22/85\n",
            "3/3 [==============================] - 0s 75ms/step - loss: 0.1190 - mae: 0.2708 - val_loss: 0.1649 - val_mae: 0.2920\n",
            "Epoch 23/85\n",
            "3/3 [==============================] - 0s 79ms/step - loss: 0.1391 - mae: 0.3125 - val_loss: 0.2394 - val_mae: 0.3607\n",
            "Epoch 24/85\n",
            "3/3 [==============================] - 0s 73ms/step - loss: 0.2737 - mae: 0.4674 - val_loss: 0.8305 - val_mae: 0.8316\n",
            "Epoch 25/85\n",
            "3/3 [==============================] - 0s 71ms/step - loss: 0.4052 - mae: 0.5169 - val_loss: 0.1853 - val_mae: 0.3247\n",
            "Epoch 26/85\n",
            "3/3 [==============================] - 0s 73ms/step - loss: 0.4104 - mae: 0.5025 - val_loss: 0.5091 - val_mae: 0.5837\n",
            "Epoch 27/85\n",
            "3/3 [==============================] - 0s 76ms/step - loss: 0.1746 - mae: 0.3366 - val_loss: 0.1479 - val_mae: 0.3384\n",
            "Epoch 28/85\n",
            "3/3 [==============================] - 0s 74ms/step - loss: 0.0610 - mae: 0.1929 - val_loss: 0.1314 - val_mae: 0.3224\n",
            "Epoch 29/85\n",
            "3/3 [==============================] - 0s 72ms/step - loss: 0.0581 - mae: 0.1862 - val_loss: 0.1111 - val_mae: 0.2934\n",
            "Epoch 30/85\n",
            "3/3 [==============================] - 0s 74ms/step - loss: 0.0578 - mae: 0.1871 - val_loss: 0.1121 - val_mae: 0.2990\n",
            "Epoch 31/85\n",
            "3/3 [==============================] - 0s 70ms/step - loss: 0.0486 - mae: 0.1766 - val_loss: 0.1228 - val_mae: 0.3048\n",
            "Epoch 32/85\n",
            "3/3 [==============================] - 0s 72ms/step - loss: 0.0638 - mae: 0.1971 - val_loss: 0.1633 - val_mae: 0.3494\n",
            "Epoch 33/85\n",
            "3/3 [==============================] - 0s 73ms/step - loss: 0.1087 - mae: 0.2641 - val_loss: 0.0784 - val_mae: 0.2195\n",
            "Epoch 34/85\n",
            "3/3 [==============================] - 0s 79ms/step - loss: 0.2108 - mae: 0.3726 - val_loss: 0.5206 - val_mae: 0.5877\n",
            "Epoch 35/85\n",
            "3/3 [==============================] - 0s 74ms/step - loss: 0.2396 - mae: 0.4043 - val_loss: 0.1636 - val_mae: 0.3125\n",
            "Epoch 36/85\n",
            "3/3 [==============================] - 0s 71ms/step - loss: 0.1394 - mae: 0.3190 - val_loss: 0.1370 - val_mae: 0.2831\n",
            "Epoch 37/85\n",
            "3/3 [==============================] - 0s 71ms/step - loss: 0.1960 - mae: 0.3537 - val_loss: 0.2289 - val_mae: 0.3794\n",
            "Epoch 38/85\n",
            "3/3 [==============================] - 0s 75ms/step - loss: 0.1597 - mae: 0.3109 - val_loss: 0.0593 - val_mae: 0.2033\n",
            "Epoch 39/85\n",
            "3/3 [==============================] - 0s 69ms/step - loss: 0.0400 - mae: 0.1552 - val_loss: 0.1159 - val_mae: 0.2940\n",
            "Epoch 40/85\n",
            "3/3 [==============================] - 0s 74ms/step - loss: 0.0724 - mae: 0.2105 - val_loss: 0.4358 - val_mae: 0.6122\n",
            "Epoch 41/85\n",
            "3/3 [==============================] - 0s 74ms/step - loss: 0.1376 - mae: 0.3064 - val_loss: 0.0979 - val_mae: 0.2350\n",
            "Epoch 42/85\n",
            "3/3 [==============================] - 0s 72ms/step - loss: 0.1012 - mae: 0.2540 - val_loss: 0.0791 - val_mae: 0.2317\n",
            "Epoch 43/85\n",
            "3/3 [==============================] - 0s 70ms/step - loss: 0.0593 - mae: 0.1836 - val_loss: 0.0914 - val_mae: 0.2691\n",
            "Epoch 44/85\n",
            "3/3 [==============================] - 0s 73ms/step - loss: 0.0314 - mae: 0.1424 - val_loss: 0.2493 - val_mae: 0.4686\n",
            "Epoch 45/85\n",
            "3/3 [==============================] - 0s 73ms/step - loss: 0.0643 - mae: 0.1993 - val_loss: 0.4619 - val_mae: 0.6494\n",
            "Epoch 46/85\n",
            "3/3 [==============================] - 0s 76ms/step - loss: 0.0551 - mae: 0.1879 - val_loss: 0.1700 - val_mae: 0.3754\n",
            "Epoch 47/85\n",
            "3/3 [==============================] - 0s 77ms/step - loss: 0.1159 - mae: 0.2619 - val_loss: 0.4409 - val_mae: 0.6067\n",
            "Epoch 48/85\n",
            "3/3 [==============================] - 0s 71ms/step - loss: 0.0551 - mae: 0.1774 - val_loss: 0.0843 - val_mae: 0.2337\n",
            "Epoch 49/85\n",
            "3/3 [==============================] - 0s 71ms/step - loss: 0.0459 - mae: 0.1703 - val_loss: 0.3370 - val_mae: 0.5419\n",
            "Epoch 50/85\n",
            "3/3 [==============================] - 0s 69ms/step - loss: 0.1231 - mae: 0.2866 - val_loss: 0.0547 - val_mae: 0.1979\n",
            "Epoch 51/85\n",
            "3/3 [==============================] - 0s 78ms/step - loss: 0.3074 - mae: 0.4304 - val_loss: 0.0515 - val_mae: 0.1888\n",
            "Epoch 52/85\n",
            "3/3 [==============================] - 0s 73ms/step - loss: 0.6163 - mae: 0.5861 - val_loss: 0.4526 - val_mae: 0.5655\n",
            "Epoch 53/85\n",
            "3/3 [==============================] - 0s 72ms/step - loss: 0.2663 - mae: 0.4117 - val_loss: 0.0816 - val_mae: 0.2142\n",
            "Epoch 54/85\n",
            "3/3 [==============================] - 0s 70ms/step - loss: 0.0924 - mae: 0.2357 - val_loss: 0.0891 - val_mae: 0.2609\n",
            "Epoch 55/85\n",
            "3/3 [==============================] - 0s 78ms/step - loss: 0.0368 - mae: 0.1453 - val_loss: 0.0963 - val_mae: 0.2724\n",
            "Epoch 56/85\n",
            "3/3 [==============================] - 0s 71ms/step - loss: 0.0444 - mae: 0.1586 - val_loss: 0.1245 - val_mae: 0.3010\n",
            "Epoch 57/85\n",
            "3/3 [==============================] - 0s 73ms/step - loss: 0.0375 - mae: 0.1640 - val_loss: 0.1126 - val_mae: 0.2829\n",
            "Epoch 58/85\n",
            "3/3 [==============================] - 0s 73ms/step - loss: 0.0343 - mae: 0.1440 - val_loss: 0.0788 - val_mae: 0.2217\n",
            "Epoch 59/85\n",
            "3/3 [==============================] - 0s 80ms/step - loss: 0.0370 - mae: 0.1540 - val_loss: 0.0331 - val_mae: 0.1462\n",
            "Epoch 60/85\n",
            "3/3 [==============================] - 0s 69ms/step - loss: 0.1506 - mae: 0.3086 - val_loss: 0.0584 - val_mae: 0.1825\n",
            "Epoch 61/85\n",
            "3/3 [==============================] - 0s 80ms/step - loss: 0.0910 - mae: 0.2415 - val_loss: 0.0731 - val_mae: 0.2049\n",
            "Epoch 62/85\n",
            "3/3 [==============================] - 0s 76ms/step - loss: 0.0721 - mae: 0.2167 - val_loss: 0.0544 - val_mae: 0.1992\n",
            "Epoch 63/85\n",
            "3/3 [==============================] - 0s 74ms/step - loss: 0.0342 - mae: 0.1464 - val_loss: 0.0333 - val_mae: 0.1411\n",
            "Epoch 64/85\n",
            "3/3 [==============================] - 0s 74ms/step - loss: 0.0447 - mae: 0.1659 - val_loss: 0.2758 - val_mae: 0.4989\n",
            "Epoch 65/85\n",
            "3/3 [==============================] - 0s 71ms/step - loss: 0.0512 - mae: 0.1746 - val_loss: 0.2871 - val_mae: 0.4975\n",
            "Epoch 66/85\n",
            "3/3 [==============================] - 0s 79ms/step - loss: 0.0948 - mae: 0.2414 - val_loss: 0.5866 - val_mae: 0.7253\n",
            "Epoch 67/85\n",
            "3/3 [==============================] - 0s 78ms/step - loss: 0.0639 - mae: 0.2093 - val_loss: 0.6285 - val_mae: 0.7449\n",
            "Epoch 68/85\n",
            "3/3 [==============================] - 0s 67ms/step - loss: 0.0543 - mae: 0.1910 - val_loss: 1.3267 - val_mae: 1.0850\n",
            "Epoch 69/85\n",
            "3/3 [==============================] - 0s 72ms/step - loss: 0.0899 - mae: 0.2475 - val_loss: 0.9298 - val_mae: 0.9136\n",
            "Epoch 70/85\n",
            "3/3 [==============================] - 0s 76ms/step - loss: 0.0615 - mae: 0.1900 - val_loss: 0.1989 - val_mae: 0.3743\n",
            "Epoch 71/85\n",
            "3/3 [==============================] - 0s 68ms/step - loss: 0.0379 - mae: 0.1537 - val_loss: 2.2435 - val_mae: 1.4087\n",
            "Epoch 72/85\n",
            "3/3 [==============================] - 0s 73ms/step - loss: 0.0731 - mae: 0.2254 - val_loss: 1.5796 - val_mae: 1.1727\n",
            "Epoch 73/85\n",
            "3/3 [==============================] - 0s 74ms/step - loss: 0.0930 - mae: 0.2410 - val_loss: 0.3179 - val_mae: 0.5281\n",
            "Epoch 74/85\n",
            "3/3 [==============================] - 0s 76ms/step - loss: 0.3050 - mae: 0.3973 - val_loss: 0.0545 - val_mae: 0.1924\n",
            "Epoch 75/85\n",
            "3/3 [==============================] - 0s 72ms/step - loss: 0.2201 - mae: 0.3425 - val_loss: 0.1174 - val_mae: 0.2938\n",
            "Epoch 76/85\n",
            "3/3 [==============================] - 0s 75ms/step - loss: 0.0632 - mae: 0.1919 - val_loss: 0.1716 - val_mae: 0.3703\n",
            "Epoch 77/85\n",
            "3/3 [==============================] - 0s 74ms/step - loss: 0.0392 - mae: 0.1557 - val_loss: 0.0302 - val_mae: 0.1390\n",
            "Epoch 78/85\n",
            "3/3 [==============================] - 0s 72ms/step - loss: 0.0485 - mae: 0.1678 - val_loss: 0.6549 - val_mae: 0.7513\n",
            "Epoch 79/85\n",
            "3/3 [==============================] - 0s 74ms/step - loss: 0.0450 - mae: 0.1610 - val_loss: 0.1887 - val_mae: 0.3956\n",
            "Epoch 80/85\n",
            "3/3 [==============================] - 0s 75ms/step - loss: 0.1022 - mae: 0.2594 - val_loss: 0.5500 - val_mae: 0.6972\n",
            "Epoch 81/85\n",
            "3/3 [==============================] - 0s 73ms/step - loss: 0.0661 - mae: 0.1973 - val_loss: 0.0988 - val_mae: 0.2732\n",
            "Epoch 82/85\n",
            "3/3 [==============================] - 0s 76ms/step - loss: 0.0665 - mae: 0.2068 - val_loss: 0.5758 - val_mae: 0.6955\n",
            "Epoch 83/85\n",
            "3/3 [==============================] - 0s 70ms/step - loss: 0.0595 - mae: 0.1867 - val_loss: 1.4448 - val_mae: 1.1112\n",
            "Epoch 84/85\n",
            "3/3 [==============================] - 0s 74ms/step - loss: 0.0416 - mae: 0.1638 - val_loss: 0.1005 - val_mae: 0.2792\n",
            "Epoch 85/85\n",
            "3/3 [==============================] - 0s 69ms/step - loss: 0.0897 - mae: 0.2403 - val_loss: 0.5874 - val_mae: 0.7193\n"
          ]
        }
      ]
    },
    {
      "cell_type": "code",
      "metadata": {
        "colab": {
          "base_uri": "https://localhost:8080/",
          "height": 265
        },
        "id": "8SmIouSdB1_e",
        "outputId": "392db6b6-f366-44ff-d22f-9d38db248520"
      },
      "source": [
        "plt.plot(history.history['mae'][1:], \n",
        "         label='Средняя абсолютная ошибка на обучающем наборе')\n",
        "plt.plot(history.history['val_mae'][1:], \n",
        "         label='Средняя абсолютная ошибка на проверочном наборе')\n",
        "plt.ylabel('Средняя ошибка')\n",
        "plt.legend()\n",
        "plt.show()"
      ],
      "execution_count": 386,
      "outputs": [
        {
          "output_type": "display_data",
          "data": {
            "image/png": "[encoded data removed]",
            "text/plain": [
              "<Figure size 432x288 with 1 Axes>"
            ]
          },
          "metadata": {
            "needs_background": "light"
          }
        }
      ]
    },
    {
      "cell_type": "code",
      "metadata": {
        "colab": {
          "base_uri": "https://localhost:8080/"
        },
        "id": "e97foyv0IA1I",
        "outputId": "d8fbff6b-4ad0-4192-9d75-684b37894c75"
      },
      "source": [
        "# loss=mae, optimizer = adam, активационная функция reluб 45 эпох\n",
        "callbaсk = EarlyStopping(monitor='val_mae', patience=5)\n",
        "\n",
        "model = Sequential()\n",
        "\n",
        "model.add(LSTM(128, input_shape = (inputs.shape[1], inputs.shape[2]), dropout=0.2, recurrent_dropout=0.2, return_sequences=\"True\"))\n",
        "model.add(Conv1D(128, 5, activation=\"relu\")) #(None,3,64)\n",
        "model.add(Conv1D(64, 3, activation=\"relu\"))\n",
        "model.add(Conv1D(32, 3, activation=\"relu\"))\n",
        "model.add(Conv1D(16, 1, activation=\"linear\"))\n",
        "model.add(Flatten())                          # (None, 3*64)\n",
        "model.add(Dense(512, activation=\"linear\"))  \n",
        "model.add(Dense(128, activation=\"linear\"))    \n",
        "model.add(Dense(32, activation=\"linear\"))  # (None,3)\n",
        "model.add(Dense(1, activation=\"linear\"))\n",
        "\n",
        "model.compile(loss=\"mae\", optimizer=\"adam\", metrics=['mae'])\n",
        "\n",
        "history = model.fit(\n",
        "    dataset_train,\n",
        "    epochs=45,\n",
        "    validation_data=dataset_val)"
      ],
      "execution_count": 414,
      "outputs": [
        {
          "output_type": "stream",
          "name": "stdout",
          "text": [
            "Epoch 1/45\n",
            "3/3 [==============================] - 3s 442ms/step - loss: 0.6480 - mae: 0.6480 - val_loss: 1.1974 - val_mae: 1.1974\n",
            "Epoch 2/45\n",
            "3/3 [==============================] - 0s 79ms/step - loss: 0.4181 - mae: 0.4181 - val_loss: 1.1273 - val_mae: 1.1273\n",
            "Epoch 3/45\n",
            "3/3 [==============================] - 0s 73ms/step - loss: 0.2509 - mae: 0.2509 - val_loss: 1.0424 - val_mae: 1.0424\n",
            "Epoch 4/45\n",
            "3/3 [==============================] - 0s 77ms/step - loss: 0.4168 - mae: 0.4168 - val_loss: 0.9485 - val_mae: 0.9485\n",
            "Epoch 5/45\n",
            "3/3 [==============================] - 0s 78ms/step - loss: 0.3198 - mae: 0.3198 - val_loss: 0.7551 - val_mae: 0.7551\n",
            "Epoch 6/45\n",
            "3/3 [==============================] - 0s 76ms/step - loss: 0.3209 - mae: 0.3209 - val_loss: 0.7231 - val_mae: 0.7231\n",
            "Epoch 7/45\n",
            "3/3 [==============================] - 0s 75ms/step - loss: 0.2561 - mae: 0.2561 - val_loss: 0.7198 - val_mae: 0.7198\n",
            "Epoch 8/45\n",
            "3/3 [==============================] - 0s 75ms/step - loss: 0.2735 - mae: 0.2735 - val_loss: 0.6242 - val_mae: 0.6242\n",
            "Epoch 9/45\n",
            "3/3 [==============================] - 0s 79ms/step - loss: 0.2422 - mae: 0.2422 - val_loss: 0.5586 - val_mae: 0.5586\n",
            "Epoch 10/45\n",
            "3/3 [==============================] - 0s 96ms/step - loss: 0.2133 - mae: 0.2133 - val_loss: 0.5791 - val_mae: 0.5791\n",
            "Epoch 11/45\n",
            "3/3 [==============================] - 0s 107ms/step - loss: 0.2260 - mae: 0.2260 - val_loss: 0.6895 - val_mae: 0.6895\n",
            "Epoch 12/45\n",
            "3/3 [==============================] - 0s 102ms/step - loss: 0.2185 - mae: 0.2185 - val_loss: 0.9042 - val_mae: 0.9042\n",
            "Epoch 13/45\n",
            "3/3 [==============================] - 0s 85ms/step - loss: 0.2121 - mae: 0.2121 - val_loss: 0.9318 - val_mae: 0.9318\n",
            "Epoch 14/45\n",
            "3/3 [==============================] - 0s 89ms/step - loss: 0.1921 - mae: 0.1921 - val_loss: 0.6991 - val_mae: 0.6991\n",
            "Epoch 15/45\n",
            "3/3 [==============================] - 0s 74ms/step - loss: 0.1882 - mae: 0.1882 - val_loss: 0.3818 - val_mae: 0.3818\n",
            "Epoch 16/45\n",
            "3/3 [==============================] - 0s 73ms/step - loss: 0.1850 - mae: 0.1850 - val_loss: 0.1666 - val_mae: 0.1666\n",
            "Epoch 17/45\n",
            "3/3 [==============================] - 0s 73ms/step - loss: 0.1363 - mae: 0.1363 - val_loss: 0.1954 - val_mae: 0.1954\n",
            "Epoch 18/45\n",
            "3/3 [==============================] - 0s 80ms/step - loss: 0.1591 - mae: 0.1591 - val_loss: 0.5914 - val_mae: 0.5914\n",
            "Epoch 19/45\n",
            "3/3 [==============================] - 0s 77ms/step - loss: 0.1649 - mae: 0.1649 - val_loss: 0.6153 - val_mae: 0.6153\n",
            "Epoch 20/45\n",
            "3/3 [==============================] - 0s 74ms/step - loss: 0.1290 - mae: 0.1290 - val_loss: 0.4137 - val_mae: 0.4137\n",
            "Epoch 21/45\n",
            "3/3 [==============================] - 0s 74ms/step - loss: 0.1330 - mae: 0.1330 - val_loss: 0.4106 - val_mae: 0.4106\n",
            "Epoch 22/45\n",
            "3/3 [==============================] - 0s 88ms/step - loss: 0.1390 - mae: 0.1390 - val_loss: 0.4121 - val_mae: 0.4121\n",
            "Epoch 23/45\n",
            "3/3 [==============================] - 0s 85ms/step - loss: 0.1762 - mae: 0.1762 - val_loss: 0.2038 - val_mae: 0.2038\n",
            "Epoch 24/45\n",
            "3/3 [==============================] - 0s 81ms/step - loss: 0.1395 - mae: 0.1395 - val_loss: 0.2381 - val_mae: 0.2381\n",
            "Epoch 25/45\n",
            "3/3 [==============================] - 0s 81ms/step - loss: 0.2179 - mae: 0.2179 - val_loss: 0.4078 - val_mae: 0.4078\n",
            "Epoch 26/45\n",
            "3/3 [==============================] - 0s 75ms/step - loss: 0.1466 - mae: 0.1466 - val_loss: 0.1153 - val_mae: 0.1153\n",
            "Epoch 27/45\n",
            "3/3 [==============================] - 0s 73ms/step - loss: 0.1510 - mae: 0.1510 - val_loss: 0.1189 - val_mae: 0.1189\n",
            "Epoch 28/45\n",
            "3/3 [==============================] - 0s 83ms/step - loss: 0.1943 - mae: 0.1943 - val_loss: 0.2923 - val_mae: 0.2923\n",
            "Epoch 29/45\n",
            "3/3 [==============================] - 0s 78ms/step - loss: 0.1581 - mae: 0.1581 - val_loss: 0.4724 - val_mae: 0.4724\n",
            "Epoch 30/45\n",
            "3/3 [==============================] - 0s 73ms/step - loss: 0.1499 - mae: 0.1499 - val_loss: 0.3739 - val_mae: 0.3739\n",
            "Epoch 31/45\n",
            "3/3 [==============================] - 0s 74ms/step - loss: 0.1418 - mae: 0.1418 - val_loss: 0.1773 - val_mae: 0.1773\n",
            "Epoch 32/45\n",
            "3/3 [==============================] - 0s 75ms/step - loss: 0.1410 - mae: 0.1410 - val_loss: 0.1188 - val_mae: 0.1188\n",
            "Epoch 33/45\n",
            "3/3 [==============================] - 0s 84ms/step - loss: 0.1835 - mae: 0.1835 - val_loss: 0.3124 - val_mae: 0.3124\n",
            "Epoch 34/45\n",
            "3/3 [==============================] - 0s 80ms/step - loss: 0.1399 - mae: 0.1399 - val_loss: 0.4089 - val_mae: 0.4089\n",
            "Epoch 35/45\n",
            "3/3 [==============================] - 0s 80ms/step - loss: 0.1906 - mae: 0.1906 - val_loss: 0.1246 - val_mae: 0.1246\n",
            "Epoch 36/45\n",
            "3/3 [==============================] - 0s 78ms/step - loss: 0.1598 - mae: 0.1598 - val_loss: 0.1203 - val_mae: 0.1203\n",
            "Epoch 37/45\n",
            "3/3 [==============================] - 0s 73ms/step - loss: 0.1572 - mae: 0.1572 - val_loss: 0.5216 - val_mae: 0.5216\n",
            "Epoch 38/45\n",
            "3/3 [==============================] - 0s 79ms/step - loss: 0.1653 - mae: 0.1653 - val_loss: 0.4903 - val_mae: 0.4903\n",
            "Epoch 39/45\n",
            "3/3 [==============================] - 0s 77ms/step - loss: 0.1665 - mae: 0.1665 - val_loss: 0.1434 - val_mae: 0.1434\n",
            "Epoch 40/45\n",
            "3/3 [==============================] - 0s 79ms/step - loss: 0.1692 - mae: 0.1692 - val_loss: 0.1246 - val_mae: 0.1246\n",
            "Epoch 41/45\n",
            "3/3 [==============================] - 0s 78ms/step - loss: 0.1382 - mae: 0.1382 - val_loss: 0.3752 - val_mae: 0.3752\n",
            "Epoch 42/45\n",
            "3/3 [==============================] - 0s 81ms/step - loss: 0.1504 - mae: 0.1504 - val_loss: 0.4489 - val_mae: 0.4489\n",
            "Epoch 43/45\n",
            "3/3 [==============================] - 0s 77ms/step - loss: 0.1574 - mae: 0.1574 - val_loss: 0.2475 - val_mae: 0.2475\n",
            "Epoch 44/45\n",
            "3/3 [==============================] - 0s 79ms/step - loss: 0.1503 - mae: 0.1503 - val_loss: 0.1156 - val_mae: 0.1156\n",
            "Epoch 45/45\n",
            "3/3 [==============================] - 0s 81ms/step - loss: 0.1618 - mae: 0.1618 - val_loss: 0.2301 - val_mae: 0.2301\n"
          ]
        }
      ]
    },
    {
      "cell_type": "code",
      "metadata": {
        "colab": {
          "base_uri": "https://localhost:8080/",
          "height": 265
        },
        "id": "cJj4903rIA4j",
        "outputId": "85d8d205-dae2-4369-a7ec-7c55f3e92f29"
      },
      "source": [
        "plt.plot(history.history['mae'][1:], \n",
        "         label='Средняя абсолютная ошибка на обучающем наборе')\n",
        "plt.plot(history.history['val_mae'][1:], \n",
        "         label='Средняя абсолютная ошибка на проверочном наборе')\n",
        "plt.ylabel('Средняя ошибка')\n",
        "plt.legend()\n",
        "plt.show()"
      ],
      "execution_count": 415,
      "outputs": [
        {
          "output_type": "display_data",
          "data": {
            "image/png": "[encoded data removed]",
            "text/plain": [
              "<Figure size 432x288 with 1 Axes>"
            ]
          },
          "metadata": {
            "needs_background": "light"
          }
        }
      ]
    },
    {
      "cell_type": "code",
      "metadata": {
        "colab": {
          "base_uri": "https://localhost:8080/"
        },
        "id": "eKVnFfvuRqBg",
        "outputId": "4eff6a4b-9809-4eb5-afec-7d85a8d49b50"
      },
      "source": [
        "#mae, adam, activation = linear, 50 эпох\n",
        "callbaсk = EarlyStopping(monitor='val_mae', patience=5)\n",
        "\n",
        "model = Sequential()\n",
        "\n",
        "model.add(LSTM(128, input_shape = (inputs.shape[1], inputs.shape[2]), dropout=0.2, recurrent_dropout=0.2, return_sequences=\"True\"))\n",
        "model.add(Conv1D(128, 5, activation=\"linear\")) #(None,3,64)\n",
        "model.add(Conv1D(64, 3, activation=\"linear\"))\n",
        "model.add(Conv1D(32, 3, activation=\"linear\"))\n",
        "model.add(Conv1D(16, 1, activation=\"linear\"))\n",
        "model.add(Flatten())                          # (None, 3*64)\n",
        "model.add(Dense(512, activation=\"linear\"))  \n",
        "model.add(Dense(128, activation=\"linear\"))    \n",
        "model.add(Dense(32, activation=\"linear\"))  # (None,3)\n",
        "model.add(Dense(1, activation=\"linear\"))\n",
        "\n",
        "model.compile(loss=\"mae\", optimizer=\"adam\", metrics=['mae'])\n",
        "\n",
        "history = model.fit(\n",
        "    dataset_train,\n",
        "    epochs=50,\n",
        "    validation_data=dataset_val)"
      ],
      "execution_count": 416,
      "outputs": [
        {
          "output_type": "stream",
          "name": "stdout",
          "text": [
            "Epoch 1/50\n",
            "3/3 [==============================] - 3s 242ms/step - loss: 0.5498 - mae: 0.5498 - val_loss: 1.6340 - val_mae: 1.6340\n",
            "Epoch 2/50\n",
            "3/3 [==============================] - 0s 73ms/step - loss: 0.8600 - mae: 0.8600 - val_loss: 0.9086 - val_mae: 0.9086\n",
            "Epoch 3/50\n",
            "3/3 [==============================] - 0s 74ms/step - loss: 0.6353 - mae: 0.6353 - val_loss: 1.0512 - val_mae: 1.0512\n",
            "Epoch 4/50\n",
            "3/3 [==============================] - 0s 77ms/step - loss: 0.5830 - mae: 0.5830 - val_loss: 1.0785 - val_mae: 1.0785\n",
            "Epoch 5/50\n",
            "3/3 [==============================] - 0s 70ms/step - loss: 0.5231 - mae: 0.5231 - val_loss: 0.7830 - val_mae: 0.7830\n",
            "Epoch 6/50\n",
            "3/3 [==============================] - 0s 76ms/step - loss: 0.3517 - mae: 0.3517 - val_loss: 0.5664 - val_mae: 0.5664\n",
            "Epoch 7/50\n",
            "3/3 [==============================] - 0s 71ms/step - loss: 0.3060 - mae: 0.3060 - val_loss: 0.8611 - val_mae: 0.8611\n",
            "Epoch 8/50\n",
            "3/3 [==============================] - 0s 70ms/step - loss: 0.4059 - mae: 0.4059 - val_loss: 0.7511 - val_mae: 0.7511\n",
            "Epoch 9/50\n",
            "3/3 [==============================] - 0s 74ms/step - loss: 0.3533 - mae: 0.3533 - val_loss: 0.4999 - val_mae: 0.4999\n",
            "Epoch 10/50\n",
            "3/3 [==============================] - 0s 71ms/step - loss: 0.2837 - mae: 0.2837 - val_loss: 0.5193 - val_mae: 0.5193\n",
            "Epoch 11/50\n",
            "3/3 [==============================] - 0s 71ms/step - loss: 0.2639 - mae: 0.2639 - val_loss: 0.5323 - val_mae: 0.5323\n",
            "Epoch 12/50\n",
            "3/3 [==============================] - 0s 78ms/step - loss: 0.2726 - mae: 0.2726 - val_loss: 0.5061 - val_mae: 0.5061\n",
            "Epoch 13/50\n",
            "3/3 [==============================] - 0s 74ms/step - loss: 0.2714 - mae: 0.2714 - val_loss: 0.4491 - val_mae: 0.4491\n",
            "Epoch 14/50\n",
            "3/3 [==============================] - 0s 75ms/step - loss: 0.2391 - mae: 0.2391 - val_loss: 0.4506 - val_mae: 0.4506\n",
            "Epoch 15/50\n",
            "3/3 [==============================] - 0s 71ms/step - loss: 0.2085 - mae: 0.2085 - val_loss: 0.3702 - val_mae: 0.3702\n",
            "Epoch 16/50\n",
            "3/3 [==============================] - 0s 69ms/step - loss: 0.2085 - mae: 0.2085 - val_loss: 0.3389 - val_mae: 0.3389\n",
            "Epoch 17/50\n",
            "3/3 [==============================] - 0s 70ms/step - loss: 0.1952 - mae: 0.1952 - val_loss: 0.3294 - val_mae: 0.3294\n",
            "Epoch 18/50\n",
            "3/3 [==============================] - 0s 78ms/step - loss: 0.1820 - mae: 0.1820 - val_loss: 0.3002 - val_mae: 0.3002\n",
            "Epoch 19/50\n",
            "3/3 [==============================] - 0s 75ms/step - loss: 0.1624 - mae: 0.1624 - val_loss: 0.2693 - val_mae: 0.2693\n",
            "Epoch 20/50\n",
            "3/3 [==============================] - 0s 72ms/step - loss: 0.1856 - mae: 0.1856 - val_loss: 0.2525 - val_mae: 0.2525\n",
            "Epoch 21/50\n",
            "3/3 [==============================] - 0s 77ms/step - loss: 0.1694 - mae: 0.1694 - val_loss: 0.2195 - val_mae: 0.2195\n",
            "Epoch 22/50\n",
            "3/3 [==============================] - 0s 76ms/step - loss: 0.1447 - mae: 0.1447 - val_loss: 0.1876 - val_mae: 0.1876\n",
            "Epoch 23/50\n",
            "3/3 [==============================] - 0s 76ms/step - loss: 0.1779 - mae: 0.1779 - val_loss: 0.2184 - val_mae: 0.2184\n",
            "Epoch 24/50\n",
            "3/3 [==============================] - 0s 72ms/step - loss: 0.1617 - mae: 0.1617 - val_loss: 0.1676 - val_mae: 0.1676\n",
            "Epoch 25/50\n",
            "3/3 [==============================] - 0s 70ms/step - loss: 0.1576 - mae: 0.1576 - val_loss: 0.2215 - val_mae: 0.2215\n",
            "Epoch 26/50\n",
            "3/3 [==============================] - 0s 73ms/step - loss: 0.1682 - mae: 0.1682 - val_loss: 0.2099 - val_mae: 0.2099\n",
            "Epoch 27/50\n",
            "3/3 [==============================] - 0s 78ms/step - loss: 0.1541 - mae: 0.1541 - val_loss: 0.2406 - val_mae: 0.2406\n",
            "Epoch 28/50\n",
            "3/3 [==============================] - 0s 73ms/step - loss: 0.1490 - mae: 0.1490 - val_loss: 0.2111 - val_mae: 0.2111\n",
            "Epoch 29/50\n",
            "3/3 [==============================] - 0s 72ms/step - loss: 0.1550 - mae: 0.1550 - val_loss: 0.2299 - val_mae: 0.2299\n",
            "Epoch 30/50\n",
            "3/3 [==============================] - 0s 74ms/step - loss: 0.1670 - mae: 0.1670 - val_loss: 0.1905 - val_mae: 0.1905\n",
            "Epoch 31/50\n",
            "3/3 [==============================] - 0s 72ms/step - loss: 0.1859 - mae: 0.1859 - val_loss: 0.2176 - val_mae: 0.2176\n",
            "Epoch 32/50\n",
            "3/3 [==============================] - 0s 69ms/step - loss: 0.1610 - mae: 0.1610 - val_loss: 0.1214 - val_mae: 0.1214\n",
            "Epoch 33/50\n",
            "3/3 [==============================] - 0s 73ms/step - loss: 0.1603 - mae: 0.1603 - val_loss: 0.1276 - val_mae: 0.1276\n",
            "Epoch 34/50\n",
            "3/3 [==============================] - 0s 75ms/step - loss: 0.1509 - mae: 0.1509 - val_loss: 0.3433 - val_mae: 0.3433\n",
            "Epoch 35/50\n",
            "3/3 [==============================] - 0s 73ms/step - loss: 0.2260 - mae: 0.2260 - val_loss: 0.1272 - val_mae: 0.1272\n",
            "Epoch 36/50\n",
            "3/3 [==============================] - 0s 74ms/step - loss: 0.1582 - mae: 0.1582 - val_loss: 0.2065 - val_mae: 0.2065\n",
            "Epoch 37/50\n",
            "3/3 [==============================] - 0s 74ms/step - loss: 0.1734 - mae: 0.1734 - val_loss: 0.1563 - val_mae: 0.1563\n",
            "Epoch 38/50\n",
            "3/3 [==============================] - 0s 71ms/step - loss: 0.1434 - mae: 0.1434 - val_loss: 0.3131 - val_mae: 0.3131\n",
            "Epoch 39/50\n",
            "3/3 [==============================] - 0s 74ms/step - loss: 0.2232 - mae: 0.2232 - val_loss: 0.1848 - val_mae: 0.1848\n",
            "Epoch 40/50\n",
            "3/3 [==============================] - 0s 77ms/step - loss: 0.1600 - mae: 0.1600 - val_loss: 0.3952 - val_mae: 0.3952\n",
            "Epoch 41/50\n",
            "3/3 [==============================] - 0s 73ms/step - loss: 0.1894 - mae: 0.1894 - val_loss: 0.1605 - val_mae: 0.1605\n",
            "Epoch 42/50\n",
            "3/3 [==============================] - 0s 78ms/step - loss: 0.1352 - mae: 0.1352 - val_loss: 0.2966 - val_mae: 0.2966\n",
            "Epoch 43/50\n",
            "3/3 [==============================] - 0s 71ms/step - loss: 0.2009 - mae: 0.2009 - val_loss: 0.1456 - val_mae: 0.1456\n",
            "Epoch 44/50\n",
            "3/3 [==============================] - 0s 69ms/step - loss: 0.1545 - mae: 0.1545 - val_loss: 0.1980 - val_mae: 0.1980\n",
            "Epoch 45/50\n",
            "3/3 [==============================] - 0s 70ms/step - loss: 0.1706 - mae: 0.1706 - val_loss: 0.1622 - val_mae: 0.1622\n",
            "Epoch 46/50\n",
            "3/3 [==============================] - 0s 71ms/step - loss: 0.1551 - mae: 0.1551 - val_loss: 0.1314 - val_mae: 0.1314\n",
            "Epoch 47/50\n",
            "3/3 [==============================] - 0s 72ms/step - loss: 0.1417 - mae: 0.1417 - val_loss: 0.1721 - val_mae: 0.1721\n",
            "Epoch 48/50\n",
            "3/3 [==============================] - 0s 86ms/step - loss: 0.1649 - mae: 0.1649 - val_loss: 0.1242 - val_mae: 0.1242\n",
            "Epoch 49/50\n",
            "3/3 [==============================] - 0s 73ms/step - loss: 0.1197 - mae: 0.1197 - val_loss: 0.1192 - val_mae: 0.1192\n",
            "Epoch 50/50\n",
            "3/3 [==============================] - 0s 74ms/step - loss: 0.1576 - mae: 0.1576 - val_loss: 0.1211 - val_mae: 0.1211\n"
          ]
        }
      ]
    },
    {
      "cell_type": "code",
      "metadata": {
        "colab": {
          "base_uri": "https://localhost:8080/",
          "height": 265
        },
        "id": "uE6-g5eNR7NE",
        "outputId": "85a7497f-2c8a-4edd-f1a6-2c80a0746811"
      },
      "source": [
        "plt.plot(history.history['mae'][1:], \n",
        "         label='Средняя абсолютная ошибка на обучающем наборе')\n",
        "plt.plot(history.history['val_mae'][1:], \n",
        "         label='Средняя абсолютная ошибка на проверочном наборе')\n",
        "plt.ylabel('Средняя ошибка')\n",
        "plt.legend()\n",
        "plt.show()"
      ],
      "execution_count": 417,
      "outputs": [
        {
          "output_type": "display_data",
          "data": {
            "image/png": "[encoded data removed]",
            "text/plain": [
              "<Figure size 432x288 with 1 Axes>"
            ]
          },
          "metadata": {
            "needs_background": "light"
          }
        }
      ]
    },
    {
      "cell_type": "code",
      "metadata": {
        "id": "DDv3Mf9QTBxQ"
      },
      "source": [
        "pred = model.predict(dataset_train).flatten()\n",
        "predVal = model.predict(dataset_val).flatten()"
      ],
      "execution_count": 389,
      "outputs": []
    },
    {
      "cell_type": "code",
      "metadata": {
        "colab": {
          "base_uri": "https://localhost:8080/"
        },
        "id": "FaQajxWAXZlw",
        "outputId": "2431c8ea-495a-495d-f264-61f8cccdf60c"
      },
      "source": [
        "len(predVal)"
      ],
      "execution_count": 390,
      "outputs": [
        {
          "output_type": "execute_result",
          "data": {
            "text/plain": [
              "26"
            ]
          },
          "metadata": {},
          "execution_count": 390
        }
      ]
    },
    {
      "cell_type": "code",
      "metadata": {
        "colab": {
          "base_uri": "https://localhost:8080/"
        },
        "id": "u_WPyaOqv9Ub",
        "outputId": "8888b606-3193-4962-bf56-62ce2a2981c3"
      },
      "source": [
        "yVal.shape"
      ],
      "execution_count": 391,
      "outputs": [
        {
          "output_type": "execute_result",
          "data": {
            "text/plain": [
              "(35,)"
            ]
          },
          "metadata": {},
          "execution_count": 391
        }
      ]
    },
    {
      "cell_type": "code",
      "metadata": {
        "colab": {
          "base_uri": "https://localhost:8080/",
          "height": 334
        },
        "id": "ertNMeV4W_r_",
        "outputId": "0189b007-a6e9-482e-f262-3ea54c4e94ff"
      },
      "source": [
        "plt.figure(figsize=(10,5))\n",
        "plt.grid('on')\n",
        "plt.plot(predVal, \n",
        "         label='Прогноз')\n",
        "plt.plot(yVal.flatten()[:-9], \n",
        "         label='Базовый ряд')\n",
        "plt.xlabel('Время')\n",
        "plt.ylabel('Значение ')\n",
        "\n",
        "plt.legend()\n",
        "plt.show()"
      ],
      "execution_count": 393,
      "outputs": [
        {
          "output_type": "display_data",
          "data": {
            "image/png": "[encoded data removed]",
            "text/plain": [
              "<Figure size 720x360 with 1 Axes>"
            ]
          },
          "metadata": {
            "needs_background": "light"
          }
        }
      ]
    },
    {
      "cell_type": "code",
      "metadata": {
        "colab": {
          "base_uri": "https://localhost:8080/",
          "height": 334
        },
        "id": "FcT6HQP2TY9L",
        "outputId": "cd59d42b-e856-4ac9-e2b2-bb61f993af77"
      },
      "source": [
        "plt.figure(figsize=(10,5))\n",
        "plt.grid('on')\n",
        "plt.plot(data_v.flatten()[8:], label='Базовый ряд')\n",
        "plt.plot(pred, label='Прогноз train')\n",
        "plt.plot(np.linspace(100, 126, 26), predVal, label='Прогноз test')\n",
        "plt.xlabel('Время')\n",
        "plt.ylabel('Значение ')\n",
        "\n",
        "plt.legend()\n",
        "plt.show()"
      ],
      "execution_count": 402,
      "outputs": [
        {
          "output_type": "display_data",
          "data": {
            "image/png": "[encoded data removed]",
            "text/plain": [
              "<Figure size 720x360 with 1 Axes>"
            ]
          },
          "metadata": {
            "needs_background": "light"
          }
        }
      ]
    },
    {
      "cell_type": "markdown",
      "metadata": {
        "id": "bddjPSaDDt9b"
      },
      "source": [
        "Точность модели помогли улучшить:\n",
        "- добавление сверточных слоев (больше ядер, больше размер ядра с постепенным снижением размера). Лучший результат получился на 4х слоях, дальнейшее увеличение числа слоев негативно сказалось на результате.\n",
        "- добавление полносвязных слоев. Лучший результат получился на 4х слоях, дальнейшее увеличение числа слоев негативно сказалось на результате.\n",
        "- подбор размера выборки (на таком маленьком наборе чем длиннее ряд, тем лучше и стабильнее результат)\n",
        "- подбор оптимизатора: лучший результат дал ADAM. Пробовала RMSProp - очень высокая дисперсия ошибки, результат не стабилен. С SGD получилось, наоборот, стабильное обучение, но результат не достаточно хороший.\n",
        "- подбор loss. Результат с mae лучше результата с mse. \n",
        "- с активационными фанкциями мало успела поэксперементировать, лучший результат получился при использовании только linear.\n",
        "\n",
        "Негативно на результате сказались dropout и batchnotmalization для сверточных и полносвязных слоев"
      ]
    },
    {
      "cell_type": "markdown",
      "metadata": {
        "id": "jzv586YURzMc"
      },
      "source": [
        "#### Реализация LSTM на numpy"
      ]
    },
    {
      "cell_type": "code",
      "metadata": {
        "id": "Zly23C2jFfYb"
      },
      "source": [
        "class LSTM:\n",
        "    def __init__(self, char_to_idx, idx_to_char, vocab_size, n_h=100, seq_len=25, \n",
        "                          epochs=10, lr=0.01, beta1=0.9, beta2=0.999):\n",
        "        self.char_to_idx = char_to_idx # characters to indices mapping\n",
        "        self.idx_to_char = idx_to_char # indices to characters mapping\n",
        "        self.vocab_size = vocab_size # no. of unique characters in the training data\n",
        "        self.n_h = n_h # no. of units in the hidden layer\n",
        "        self.seq_len = seq_len # no. of time steps, also size of mini batch\n",
        "        self.epochs = epochs # no. of training iterations\n",
        "        self.lr = lr # learning rate\n",
        "        self.beta1 = beta1 # 1st momentum parameter\n",
        "        self.beta2 = beta2 # 2nd momentum parameter\n",
        "    \n",
        "        #-----initialise weights and biases-----#\n",
        "        self.params = {}\n",
        "        std = (1.0/np.sqrt(self.vocab_size + self.n_h)) # Xavier initialisation\n",
        "        \n",
        "        # forget gate\n",
        "        self.params[\"Wf\"] = np.random.randn(self.n_h, self.n_h + self.vocab_size) * std\n",
        "        self.params[\"bf\"] = np.ones((self.n_h,1))\n",
        "\n",
        "        # input gate\n",
        "        self.params[\"Wi\"] = np.random.randn(self.n_h, self.n_h + self.vocab_size) * std\n",
        "        self.params[\"bi\"] = np.zeros((self.n_h,1))\n",
        "\n",
        "        # cell gate\n",
        "        self.params[\"Wc\"] = np.random.randn(self.n_h, self.n_h + self.vocab_size) * std\n",
        "        self.params[\"bc\"] = np.zeros((self.n_h,1))\n",
        "\n",
        "        # output gate\n",
        "        self.params[\"Wo\"] = np.random.randn(self.n_h, self.n_h + self.vocab_size) * std\n",
        "        self.params[\"bo\"] = np.zeros((self.n_h ,1))\n",
        "\n",
        "        # output\n",
        "        self.params[\"Wv\"] = np.random.randn(self.vocab_size, self.n_h) * \\\n",
        "                                          (1.0/np.sqrt(self.vocab_size))\n",
        "        self.params[\"bv\"] = np.zeros((self.vocab_size ,1))\n",
        "\n",
        "        #-----initialise gradients and Adam parameters-----#\n",
        "        self.grads = {}\n",
        "        self.adam_params = {}\n",
        "\n",
        "        for key in self.params:\n",
        "            self.grads[\"d\"+key] = np.zeros_like(self.params[key])\n",
        "            self.adam_params[\"m\"+key] = np.zeros_like(self.params[key])\n",
        "            self.adam_params[\"v\"+key] = np.zeros_like(self.params[key])\n",
        "            \n",
        "        self.smooth_loss = -np.log(1.0 / self.vocab_size) * self.seq_len\n",
        "        return\n",
        "\n",
        "\n",
        "    def sigmoid(self, x):\n",
        "        return 1 / (1 + np.exp(-x))\n",
        "\n",
        "    LSTM.sigmoid = sigmoid\n",
        "\n",
        "\n",
        "    def softmax(self, x):\n",
        "        e_x = np.exp(x - np.max(x)) # max(x) subtracted for numerical stability\n",
        "        return e_x / np.sum(e_x)\n",
        "\n",
        "    LSTM.softmax = softmax\n",
        "\n",
        "    def clip_grads(self):\n",
        "        for key in self.grads:\n",
        "            np.clip(self.grads[key], -5, 5, out=self.grads[key])\n",
        "        return\n",
        "\n",
        "    LSTM.clip_grads = clip_grads\n",
        "\n",
        "\n",
        "    def reset_grads(self):\n",
        "        for key in self.grads:\n",
        "            self.grads[key].fill(0)\n",
        "        return\n",
        "\n",
        "    LSTM.reset_grads = reset_grads\n",
        "\n",
        "    def update_params(self, batch_num):\n",
        "        for key in self.params:\n",
        "            self.adam_params[\"m\"+key] = self.adam_params[\"m\"+key] * self.beta1 + \\\n",
        "                                    (1 - self.beta1) * self.grads[\"d\"+key]\n",
        "            self.adam_params[\"v\"+key] = self.adam_params[\"v\"+key] * self.beta2 + \\\n",
        "                                    (1 - self.beta2) * self.grads[\"d\"+key]**2\n",
        "            m_correlated = self.adam_params[\"m\" + key] / (1 - self.beta1**batch_num)\n",
        "            v_correlated = self.adam_params[\"v\" + key] / (1 - self.beta2**batch_num) \n",
        "            self.params[key] -= self.lr * m_correlated / (np.sqrt(v_correlated) + 1e-8) \n",
        "        return\n",
        "\n",
        "    LSTM.update_params = update_params\n",
        "\n",
        "\n",
        "    def forward_step(self, x, h_prev, c_prev):\n",
        "        z = np.row_stack((h_prev, x))\n",
        "\n",
        "        f = self.sigmoid(np.dot(self.params[\"Wf\"], z) + self.params[\"bf\"])\n",
        "        i = self.sigmoid(np.dot(self.params[\"Wi\"], z) + self.params[\"bi\"])\n",
        "        c_bar = np.tanh(np.dot(self.params[\"Wc\"], z) + self.params[\"bc\"])\n",
        "\n",
        "        c = f * c_prev + i * c_bar\n",
        "        o = self.sigmoid(np.dot(self.params[\"Wo\"], z) + self.params[\"bo\"])\n",
        "        h = o * np.tanh(c)\n",
        "\n",
        "        v = np.dot(self.params[\"Wv\"], h) + self.params[\"bv\"]\n",
        "        y_hat = self.softmax(v)\n",
        "        return y_hat, v, h, o, c, c_bar, i, f, z\n",
        "\n",
        "    LSTM.forward_step = forward_step\n",
        "\n",
        "    def backward_step(self, y, y_hat, dh_next, dc_next, c_prev, z, f, i, c_bar, c, o, h):\n",
        "        dv = np.copy(y_hat)\n",
        "        dv[y] -= 1 # yhat - y\n",
        "\n",
        "        self.grads[\"dWv\"] += np.dot(dv, h.T)\n",
        "        self.grads[\"dbv\"] += dv\n",
        "\n",
        "        dh = np.dot(self.params[\"Wv\"].T, dv)\n",
        "        dh += dh_next\n",
        "    \n",
        "        do = dh * np.tanh(c)\n",
        "        da_o = do * o*(1-o)\n",
        "        self.grads[\"dWo\"] += np.dot(da_o, z.T)\n",
        "        self.grads[\"dbo\"] += da_o\n",
        "\n",
        "        dc = dh * o * (1-np.tanh(c)**2)\n",
        "        dc += dc_next\n",
        "\n",
        "        dc_bar = dc * i\n",
        "        da_c = dc_bar * (1-c_bar**2)\n",
        "        self.grads[\"dWc\"] += np.dot(da_c, z.T)\n",
        "        self.grads[\"dbc\"] += da_c\n",
        "\n",
        "        di = dc * c_bar\n",
        "        da_i = di * i*(1-i) \n",
        "        self.grads[\"dWi\"] += np.dot(da_i, z.T)\n",
        "        self.grads[\"dbi\"] += da_i\n",
        "\n",
        "        df = dc * c_prev\n",
        "        da_f = df * f*(1-f)\n",
        "        self.grads[\"dWf\"] += np.dot(da_f, z.T)\n",
        "        self.grads[\"dbf\"] += da_f\n",
        "\n",
        "        dz = (np.dot(self.params[\"Wf\"].T, da_f)\n",
        "         + np.dot(self.params[\"Wi\"].T, da_i)\n",
        "         + np.dot(self.params[\"Wc\"].T, da_c)\n",
        "         + np.dot(self.params[\"Wo\"].T, da_o))\n",
        "\n",
        "        dh_prev = dz[:self.n_h, :]\n",
        "        dc_prev = f * dc\n",
        "        return dh_prev, dc_prev\n",
        "\n",
        "    LSTM.backward_step = backward_step\n",
        "\n",
        "\n",
        "    def forward_backward(self, x_batch, y_batch, h_prev, c_prev):\n",
        "        x, z = {}, {}\n",
        "        f, i, c_bar, c, o = {}, {}, {}, {}, {}\n",
        "        y_hat, v, h = {}, {}, {}\n",
        "\n",
        "        # Values at t= - 1\n",
        "        h[-1] = h_prev\n",
        "        c[-1] = c_prev\n",
        "\n",
        "        loss = 0\n",
        "        for t in range(self.seq_len): \n",
        "            x[t] = np.zeros((self.vocab_size, 1))\n",
        "            x[t][x_batch[t]] = 1\n",
        "\n",
        "            y_hat[t], v[t], h[t], o[t], c[t], c_bar[t], i[t], f[t], z[t] = \\\n",
        "            self.forward_step(x[t], h[t-1], c[t-1])\n",
        "\n",
        "            loss += -np.log(y_hat[t][y_batch[t],0])\n",
        "\n",
        "        self.reset_grads()\n",
        "\n",
        "        dh_next = np.zeros_like(h[0])\n",
        "        dc_next = np.zeros_like(c[0])\n",
        "\n",
        "        for t in reversed(range(self.seq_len)):\n",
        "            dh_next, dc_next = self.backward_step(y_batch[t], y_hat[t], dh_next, \n",
        "                                              dc_next, c[t-1], z[t], f[t], i[t], \n",
        "                                              c_bar[t], c[t], o[t], h[t]) \n",
        "        return loss, h[self.seq_len-1], c[self.seq_len-1]\n",
        "\n",
        "    LSTM.forward_backward = forward_backward\n",
        "\n",
        "\n",
        "    def sample(self, h_prev, c_prev, sample_size):\n",
        "        x = np.zeros((self.vocab_size, 1))\n",
        "        h = h_prev\n",
        "        c = c_prev\n",
        "        sample_string = \"\" \n",
        "    \n",
        "        for t in range(sample_size):\n",
        "            y_hat, _, h, _, c, _, _, _, _ = self.forward_step(x, h, c)        \n",
        "        \n",
        "            # get a random index within the probability distribution of y_hat(ravel())\n",
        "            idx = np.random.choice(range(self.vocab_size), p=y_hat.ravel())\n",
        "            x = np.zeros((self.vocab_size, 1))\n",
        "            x[idx] = 1\n",
        "        \n",
        "            #find the char with the sampled index and concat to the output string\n",
        "            char = self.idx_to_char[idx]\n",
        "            sample_string += char\n",
        "        return sample_string\n",
        "\n",
        "    LSTM.sample = sample\n",
        "\n",
        "    def train(self, X, verbose=True):\n",
        "        J = []  # to store losses\n",
        "\n",
        "        num_batches = len(X) // self.seq_len\n",
        "        X_trimmed = X[: num_batches * self.seq_len]  # trim input to have full sequences\n",
        "\n",
        "        for epoch in range(self.epochs):\n",
        "            h_prev = np.zeros((self.n_h, 1))\n",
        "            c_prev = np.zeros((self.n_h, 1))\n",
        "\n",
        "            for j in range(0, len(X_trimmed) - self.seq_len, self.seq_len):\n",
        "                # prepare batches\n",
        "                x_batch = [self.char_to_idx[ch] for ch in X_trimmed[j: j + self.seq_len]]\n",
        "                y_batch = [self.char_to_idx[ch] for ch in X_trimmed[j + 1: j + self.seq_len + 1]]\n",
        "\n",
        "                loss, h_prev, c_prev = self.forward_backward(x_batch, y_batch, h_prev, c_prev)\n",
        "\n",
        "                # smooth out loss and store in list\n",
        "                self.smooth_loss = self.smooth_loss * 0.999 + loss * 0.001\n",
        "                J.append(self.smooth_loss)\n",
        "\n",
        "                self.clip_grads()\n",
        "\n",
        "                batch_num = epoch * self.epochs + j / self.seq_len + 1\n",
        "                self.update_params(batch_num)\n",
        "\n",
        "                # print out loss and sample string\n",
        "                if verbose:\n",
        "                    if j % 400000 == 0:\n",
        "                        print('Epoch:', epoch, '\\tBatch:', j, \"-\", j + self.seq_len,\n",
        "                          '\\tLoss:', round(self.smooth_loss, 2))\n",
        "                        s = self.sample(h_prev, c_prev, sample_size=30)\n",
        "                        print(s, \"\\n\")\n",
        "        return J, self.params\n",
        "\n",
        "    LSTM.train = train"
      ],
      "execution_count": 481,
      "outputs": []
    },
    {
      "cell_type": "code",
      "metadata": {
        "colab": {
          "base_uri": "https://localhost:8080/"
        },
        "id": "XjmEkvWRMXX8",
        "outputId": "6d564b86-c55c-484c-de8c-8b68d23ff0c4"
      },
      "source": [
        "data = open('/content/drive/MyDrive/alice_in_wonderland.txt').read().lower()\n",
        "data = data.replace('\\n', '')\n",
        "# кусочек\n",
        "data = data[5000:10000]\n",
        "chars = set(data)\n",
        "vocab_size = len(chars)\n",
        "print('data has %d characters, %d unique' % (len(data), vocab_size))\n",
        "\n",
        "char_to_idx = {w: i for i,w in enumerate(chars)}\n",
        "idx_to_char = {i: w for i,w in enumerate(chars)}"
      ],
      "execution_count": 452,
      "outputs": [
        {
          "output_type": "stream",
          "name": "stdout",
          "text": [
            "data has 5000 characters, 42 unique\n"
          ]
        }
      ]
    },
    {
      "cell_type": "code",
      "metadata": {
        "colab": {
          "base_uri": "https://localhost:8080/"
        },
        "id": "9qlAe_ljQnBT",
        "outputId": "5ff0ed85-1da9-4a28-9780-0dfc1b3f69c6"
      },
      "source": [
        "model = LSTM(char_to_idx, idx_to_char, vocab_size, epochs = 100, seq_len = 10, lr = 0.01)\n",
        "\n",
        "J, params = model.train(data)"
      ],
      "execution_count": 483,
      "outputs": [
        {
          "output_type": "stream",
          "name": "stdout",
          "text": [
            "Epoch: 0 \tBatch: 0 - 10 \tLoss: 37.38\n",
            "kpdum!wo*adfw, ?yb!ceep[’,)dz? \n",
            "\n",
            "Epoch: 1 \tBatch: 0 - 10 \tLoss: 32.85\n",
            "oulatheo  o the  aveg in ced l \n",
            "\n",
            "Epoch: 2 \tBatch: 0 - 10 \tLoss: 28.4\n",
            "at was and, thengoot  pingelot \n",
            "\n",
            "Epoch: 3 \tBatch: 0 - 10 \tLoss: 24.69\n",
            "nt alice!” be the che to lote  \n",
            "\n",
            "Epoch: 4 \tBatch: 0 - 10 \tLoss: 21.7\n",
            "inothing cous alace tlarghat n \n",
            "\n",
            "Epoch: 5 \tBatch: 0 - 10 \tLoss: 19.36\n",
            "and it’ wereme sinetere, u‘ th \n",
            "\n",
            "Epoch: 6 \tBatch: 0 - 10 \tLoss: 17.53\n",
            "‘wh whang, in in lane.er the w \n",
            "\n",
            "Epoch: 7 \tBatch: 0 - 10 \tLoss: 16.15\n",
            "omis a little had she was not  \n",
            "\n",
            "Epoch: 8 \tBatch: 0 - 10 \tLoss: 14.92\n",
            "fw, the loterwever, thanger th \n",
            "\n",
            "Epoch: 9 \tBatch: 0 - 10 \tLoss: 13.89\n",
            "ow she ligetoully fleboge, she \n",
            "\n",
            "Epoch: 10 \tBatch: 0 - 10 \tLoss: 13.1\n",
            "oundingoshe usun yon hering bu \n",
            "\n",
            "Epoch: 11 \tBatch: 0 - 10 \tLoss: 12.42\n",
            "ow she came urot farkey on fir \n",
            "\n",
            "Epoch: 12 \tBatch: 0 - 10 \tLoss: 11.95\n",
            "ow,’ said she wise to dishe we \n",
            "\n",
            "Epoch: 13 \tBatch: 0 - 10 \tLoss: 11.47\n",
            "owever, she leat poould up it  \n",
            "\n",
            "Epoch: 14 \tBatch: 0 - 10 \tLoss: 11.13\n",
            "o cout of-thaghbrikn do cats;  \n",
            "\n",
            "Epoch: 15 \tBatch: 0 - 10 \tLoss: 10.73\n",
            "ond i worder?’‘she was noo for \n",
            "\n",
            "Epoch: 16 \tBatch: 0 - 10 \tLoss: 10.31\n",
            "of poor, sh she fels fatter th \n",
            "\n",
            "Epoch: 17 \tBatch: 0 - 10 \tLoss: 9.96\n",
            "ut the wnice, pistaple, in she \n",
            "\n",
            "Epoch: 18 \tBatch: 0 - 10 \tLoss: 9.66\n",
            "olden mabrin she had happened  \n",
            "\n",
            "Epoch: 19 \tBatch: 0 - 10 \tLoss: 9.46\n",
            "ous the candle, she had never  \n",
            "\n",
            "Epoch: 20 \tBatch: 0 - 10 \tLoss: 9.4\n",
            "itbut a the was now the tryif  \n",
            "\n",
            "Epoch: 21 \tBatch: 0 - 10 \tLoss: 9.31\n",
            "or seen inches high, and the w \n",
            "\n",
            "Epoch: 22 \tBatch: 0 - 10 \tLoss: 9.16\n",
            "ot my goinghol, towely garden. \n",
            "\n",
            "Epoch: 23 \tBatch: 0 - 10 \tLoss: 8.74\n",
            "ow’wer, shewn out, for, you if \n",
            "\n",
            "Epoch: 24 \tBatch: 0 - 10 \tLoss: 8.54\n",
            "ow cans, alas notle was just y \n",
            "\n",
            "Epoch: 25 \tBatch: 0 - 10 \tLoss: 8.65\n",
            "ow shough the little golden go \n",
            "\n",
            "Epoch: 26 \tBatch: 0 - 10 \tLoss: 8.51\n",
            "ou mifules incourner firstire. \n",
            "\n",
            "Epoch: 27 \tBatch: 0 - 10 \tLoss: 8.2\n",
            "ow thingh, aw, out-ofth-tepeir \n",
            "\n",
            "Epoch: 28 \tBatch: 0 - 10 \tLoss: 8.0\n",
            "ow half, and lices for shuttis \n",
            "\n",
            "Epoch: 29 \tBatch: 0 - 10 \tLoss: 8.03\n",
            "ow thing.ast might simpen inch \n",
            "\n",
            "Epoch: 30 \tBatch: 0 - 10 \tLoss: 7.85\n",
            "of thought very for a fould so \n",
            "\n",
            "Epoch: 31 \tBatch: 0 - 10 \tLoss: 7.81\n",
            "ew the might if too ligortepe. \n",
            "\n",
            "Epoch: 32 \tBatch: 0 - 10 \tLoss: 7.78\n",
            "nwed so she got might tof a sh \n",
            "\n",
            "Epoch: 33 \tBatch: 0 - 10 \tLoss: 7.75\n",
            "of goingintoerseid out myifudn \n",
            "\n",
            "Epoch: 34 \tBatch: 0 - 10 \tLoss: 7.54\n",
            "indt,’ she tried to fancy out, \n",
            "\n",
            "Epoch: 35 \tBatch: 0 - 10 \tLoss: 7.54\n",
            "ould in fartains, ‘andseere wa \n",
            "\n",
            "Epoch: 36 \tBatch: 0 - 10 \tLoss: 7.57\n",
            "alled tois a little golden you \n",
            "\n",
            "Epoch: 37 \tBatch: 0 - 10 \tLoss: 7.38\n",
            "elise to herself, ‘sh mi first \n",
            "\n",
            "Epoch: 38 \tBatch: 0 - 10 \tLoss: 7.26\n",
            "into finded on goinginto thing \n",
            "\n",
            "Epoch: 39 \tBatch: 0 - 10 \tLoss: 7.18\n",
            "eliess going!’ the little door \n",
            "\n",
            "Epoch: 40 \tBatch: 0 - 10 \tLoss: 7.26\n",
            "ot ceid in the tryy doorchs ab \n",
            "\n",
            "Epoch: 41 \tBatch: 0 - 10 \tLoss: 7.2\n",
            "ound anothers. oh, howies “poi \n",
            "\n",
            "Epoch: 42 \tBatch: 0 - 10 \tLoss: 7.26\n",
            "eling!’ she were door of mixed \n",
            "\n",
            "Epoch: 43 \tBatch: 0 - 10 \tLoss: 7.15\n",
            "on say, ‘whistonly penother, t \n",
            "\n",
            "Epoch: 44 \tBatch: 0 - 10 \tLoss: 6.92\n",
            "nlany fritely,ther.alice,) and \n",
            "\n",
            "Epoch: 45 \tBatch: 0 - 10 \tLoss: 6.85\n",
            "or shut hardere, ‘itwas noo i  \n",
            "\n",
            "Epoch: 46 \tBatch: 0 - 10 \tLoss: 6.77\n",
            "ozide that feer froued for she \n",
            "\n",
            "Epoch: 47 \tBatch: 0 - 10 \tLoss: 6.75\n",
            "over at she do coorgs, a coois \n",
            "\n",
            "Epoch: 48 \tBatch: 0 - 10 \tLoss: 6.61\n",
            "ot the roof.ther, like a candl \n",
            "\n",
            "Epoch: 49 \tBatch: 0 - 10 \tLoss: 6.51\n",
            "ow shutting!’ things ior yaw c \n",
            "\n",
            "Epoch: 50 \tBatch: 0 - 10 \tLoss: 6.49\n",
            "udn in might you, say ‘dring t \n",
            "\n",
            "Epoch: 51 \tBatch: 0 - 10 \tLoss: 6.79\n",
            "ells for thing ou cats eat bit \n",
            "\n",
            "Epoch: 52 \tBatch: 0 - 10 \tLoss: 6.8\n",
            "ith a telescopes: thistither f \n",
            "\n",
            "Epoch: 53 \tBatch: 0 - 10 \tLoss: 6.65\n",
            "es going berully, bepon an.she \n",
            "\n",
            "Epoch: 54 \tBatch: 0 - 10 \tLoss: 6.6\n",
            "uld said alice! when she had f \n",
            "\n",
            "Epoch: 55 \tBatch: 0 - 10 \tLoss: 6.39\n",
            "ot up like a candle is blown v \n",
            "\n",
            "Epoch: 56 \tBatch: 0 - 10 \tLoss: 6.14\n",
            "oo if was nou a candle sheway  \n",
            "\n",
            "Epoch: 57 \tBatch: 0 - 10 \tLoss: 6.08\n",
            "ithing i could, she might size \n",
            "\n",
            "Epoch: 58 \tBatch: 0 - 10 \tLoss: 5.96\n",
            "edber frealich thought felt a  \n",
            "\n",
            "Epoch: 59 \tBatch: 0 - 10 \tLoss: 6.25\n",
            "uin a *  *  *    *‘what now to \n",
            "\n",
            "Epoch: 60 \tBatch: 0 - 10 \tLoss: 6.38\n",
            "y eithalld to see in it very n \n",
            "\n",
            "Epoch: 61 \tBatch: 0 - 10 \tLoss: 6.38\n",
            "use things, she said buthinsul \n",
            "\n",
            "Epoch: 62 \tBatch: 0 - 10 \tLoss: 6.19\n",
            "ind she couldn’t any further:s \n",
            "\n",
            "Epoch: 63 \tBatch: 0 - 10 \tLoss: 6.07\n",
            "uddofr things hiralice of the  \n",
            "\n",
            "Epoch: 64 \tBatch: 0 - 10 \tLoss: 5.63\n",
            "u,ry what such a threr:shast,) \n",
            "\n",
            "Epoch: 65 \tBatch: 0 - 10 \tLoss: 5.58\n",
            "oous of mi therway heaply, ‘in \n",
            "\n",
            "Epoch: 66 \tBatch: 0 - 10 \tLoss: 5.86\n",
            "urbear ateef cher felt a littl \n",
            "\n",
            "Epoch: 67 \tBatch: 0 - 10 \tLoss: 6.0\n",
            "uddly, telfs, and looked fote  \n",
            "\n",
            "Epoch: 68 \tBatch: 0 - 10 \tLoss: 6.3\n",
            "onged to been oner things half \n",
            "\n",
            "Epoch: 69 \tBatch: 0 - 10 \tLoss: 6.16\n",
            "o had got’ssmin, not’t out amo \n",
            "\n",
            "Epoch: 70 \tBatch: 0 - 10 \tLoss: 5.88\n",
            "oveored it off.  *    *    *   \n",
            "\n",
            "Epoch: 71 \tBatch: 0 - 10 \tLoss: 5.56\n",
            "othing she walked to be seen a \n",
            "\n",
            "Epoch: 72 \tBatch: 0 - 10 \tLoss: 5.57\n",
            "or “ranened, she deepy, anling \n",
            "\n",
            "Epoch: 73 \tBatch: 0 - 10 \tLoss: 5.66\n",
            "own she found going to ong; th \n",
            "\n",
            "Epoch: 74 \tBatch: 0 - 10 \tLoss: 5.68\n",
            "ol, out it too longed up like  \n",
            "\n",
            "Epoch: 75 \tBatch: 0 - 10 \tLoss: 5.91\n",
            "otbuch a little door intobrtpe \n",
            "\n",
            "Epoch: 76 \tBatch: 0 - 10 \tLoss: 5.89\n",
            "ouch much from halist,) she ke \n",
            "\n",
            "Epoch: 77 \tBatch: 0 - 10 \tLoss: 5.7\n",
            "ouldshut out agt, and a moment \n",
            "\n",
            "Epoch: 78 \tBatch: 0 - 10 \tLoss: 5.88\n",
            "ot a bife round for a fift, an \n",
            "\n",
            "Epoch: 79 \tBatch: 0 - 10 \tLoss: 5.99\n",
            "or throker, she fount, and thi \n",
            "\n",
            "Epoch: 80 \tBatch: 0 - 10 \tLoss: 5.97\n",
            "ou duw once; befofted!alittle  \n",
            "\n",
            "Epoch: 81 \tBatch: 0 - 10 \tLoss: 5.75\n",
            "ou know,’ said acandle is loke \n",
            "\n",
            "Epoch: 82 \tBatch: 0 - 10 \tLoss: 5.54\n",
            "ine she might goingtome she co \n",
            "\n",
            "Epoch: 83 \tBatch: 0 - 10 \tLoss: 5.62\n",
            "ust,but, annfelightted tabeham \n",
            "\n",
            "Epoch: 84 \tBatch: 0 - 10 \tLoss: 5.81\n",
            "oo the key was thac it out, an \n",
            "\n",
            "Epoch: 85 \tBatch: 0 - 10 \tLoss: 5.58\n",
            "or the tain to she way which w \n",
            "\n",
            "Epoch: 86 \tBatch: 0 - 10 \tLoss: 5.62\n",
            "or too larger the wind inches  \n",
            "\n",
            "Epoch: 87 \tBatch: 0 - 10 \tLoss: 5.54\n",
            "ed on finide afters.it was all \n",
            "\n",
            "Epoch: 88 \tBatch: 0 - 10 \tLoss: 5.51\n",
            "inding ore the thought poor al \n",
            "\n",
            "Epoch: 89 \tBatch: 0 - 10 \tLoss: 5.58\n",
            "out-(urgutele, for a book of t \n",
            "\n",
            "Epoch: 90 \tBatch: 0 - 10 \tLoss: 5.65\n",
            "oh, hurrying somened they woun \n",
            "\n",
            "Epoch: 91 \tBatch: 0 - 10 \tLoss: 5.52\n",
            "ut atter goand to getird, ‘in  \n",
            "\n",
            "Epoch: 92 \tBatch: 0 - 10 \tLoss: 5.51\n",
            "ustait, [‘which was belong to  \n",
            "\n",
            "Epoch: 93 \tBatch: 0 - 10 \tLoss: 5.49\n",
            "ust of it to think i could, yo \n",
            "\n",
            "Epoch: 94 \tBatch: 0 - 10 \tLoss: 5.47\n",
            "uwer; be saide little doorw o  \n",
            "\n",
            "Epoch: 95 \tBatch: 0 - 10 \tLoss: 5.54\n",
            "ot up like a corgiten and to b \n",
            "\n",
            "Epoch: 96 \tBatch: 0 - 10 \tLoss: 5.68\n",
            "ust in a tinke-was not rherfic \n",
            "\n",
            "Epoch: 97 \tBatch: 0 - 10 \tLoss: 5.61\n",
            "ustame,’ first,) she :img up l \n",
            "\n",
            "Epoch: 98 \tBatch: 0 - 10 \tLoss: 5.75\n",
            "one the falg goleds; and her w \n",
            "\n",
            "Epoch: 99 \tBatch: 0 - 10 \tLoss: 5.53\n",
            "un it on wind is blown out alt \n",
            "\n"
          ]
        }
      ]
    },
    {
      "cell_type": "code",
      "metadata": {
        "id": "pYZTdeR9VDj-"
      },
      "source": [
        ""
      ],
      "execution_count": null,
      "outputs": []
    }
  ]
}